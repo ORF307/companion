{
 "cells": [
  {
   "cell_type": "markdown",
   "metadata": {
    "id": "A7AoD97gx_Zt"
   },
   "source": [
    "# ORF307 Precept 5"
   ]
  },
  {
   "cell_type": "markdown",
   "metadata": {
    "id": "jGwX7ZdtQajP"
   },
   "source": [
    "# Converting LPs"
   ]
  },
  {
   "cell_type": "markdown",
   "metadata": {
    "id": "0sdMiHL1QcwN"
   },
   "source": [
    "Convert the following LP into 2 forms\n",
    "\n",
    "\\begin{array}{ll} \\mbox{min} & \\|Ax - b\\|_1 \\\\ \n",
    "\\mbox{subject to} & \\|x\\|_{\\infty} \\leq k \\\\\n",
    "\\end{array} "
   ]
  },
  {
   "cell_type": "markdown",
   "metadata": {
    "id": "UU-_hsxbQ0OS"
   },
   "source": [
    "form (1)\n",
    "\\begin{array}{ll} \\mbox{min} & c^T x \\\\ \n",
    "\\mbox{subject to} & Ax \\leq b \\\\\n",
    "& Cx = d \\\\\n",
    "\\end{array} "
   ]
  },
  {
   "cell_type": "markdown",
   "metadata": {
    "id": "O5cAsncTRBUd"
   },
   "source": [
    "form (2)\n",
    "\\begin{array}{ll} \\mbox{min} & c^T x \\\\ \n",
    "\\mbox{subject to} & Ax = b \\\\\n",
    "& x \\geq 0 \\\\\n",
    "\\end{array} "
   ]
  },
  {
   "cell_type": "markdown",
   "metadata": {
    "id": "IDpSUKAs46Dd"
   },
   "source": [
    "# Steel company operations"
   ]
  },
  {
   "cell_type": "markdown",
   "metadata": {
    "id": "-dYB6YVo46-r"
   },
   "source": [
    "A steel company must decide how to allocate next week’s time on a rolling mill, which is a machine that takes unfinished slabs of steel as input and can\n",
    "produce either of two semi-finished products: bands and coils. The mill’s two products come off the rolling line at different rates: Bands $200 tons/h$ and Coils $140 tons/h$.\n",
    "They also produce different profits: Bands $\\$ 25/ton$ and Coils $ \\$30/ton $.\n",
    "Based on currently booked orders, the following upper bounds are placed on the amount of each product to produce: Bands $6000$ tons and Coils $4000$ tons.\n",
    "Given that there are $40 h$ of production time available this week, the problem is to decide how many tons of bands and how many tons of coils should be produced to yield the greatest profit. Formulate this problem as a linear\n",
    "programming problem. Can you solve this problem by inspection?"
   ]
  },
  {
   "cell_type": "markdown",
   "metadata": {
    "id": "cZOfv4ruzUOQ"
   },
   "source": [
    "# The moment problem"
   ]
  },
  {
   "cell_type": "markdown",
   "metadata": {
    "id": "ltjT2uGazYkr"
   },
   "source": [
    "Suppose that $Z$ is a random variable\n",
    "taking values in the set $0,1, \\dots , K$, with probabilities $p_O, p_l, \\dots ,p_K$, respectively.\n",
    "We are given the values of the first two moments $E[Z] = \\sum_{k=1}^K k p_k$ and $E[Z] = \\sum_{k=1}^K k^2 p_k$ of $Z$, and we would like to obtain upper and lower.bounds on the value of the fourth moment $E[Z] = \\sum_{k=1}^K k^4 p_k$ of Z. Show how linear programming\n",
    "can be used to approach this problem."
   ]
  },
  {
   "cell_type": "markdown",
   "metadata": {
    "id": "B5vf9SKw769p"
   },
   "source": [
    "# Chebyshev center"
   ]
  },
  {
   "cell_type": "markdown",
   "metadata": {
    "id": "WfMuTGrp77xN"
   },
   "source": [
    "Consider a set P described by linear\n",
    "inequality constraints, that is, $P = \\{x \\in \\mathbb{R}^n | a_i^T x \\leq b_i \\quad  i = 1, \\dots ,m\\}$. A ball\n",
    "with center $y$ and radius $r$ is defined as the set of all points within (Euclidean)\n",
    "distance $r$ from $y$. We are interested in finding a ball with the largest possible\n",
    "radius, which is entirely contained within the set $P$. (The center of such a ball is\n",
    "called the Chebychev center of $P$.) Provide a linear programming formulation of\n",
    "this problem."
   ]
  },
  {
   "cell_type": "code",
   "execution_count": 15,
   "metadata": {
    "colab": {
     "base_uri": "https://localhost:8080/",
     "height": 337
    },
    "id": "45hmEom22c1A",
    "outputId": "08a5ab5b-7bb1-49c9-c9a7-1a43eb5129c7"
   },
   "outputs": [
    {
     "name": "stdout",
     "output_type": "stream",
     "text": [
      "sol 1.1659779903259055\n",
      "xc.value [1.16597799 2.18508012]\n",
      "r.value [1.16597799]\n"
     ]
    },
    {
     "data": {
      "text/plain": [
       "[(-1.0, 5.0), (-1.0, 5.0)]"
      ]
     },
     "execution_count": 15,
     "metadata": {
      "tags": []
     },
     "output_type": "execute_result"
    },
    {
     "data": {
      "image/png": "[encoded data removed]",
      "text/plain": [
       "<Figure size 432x288 with 1 Axes>"
      ]
     },
     "metadata": {
      "needs_background": "light",
      "tags": []
     },
     "output_type": "display_data"
    }
   ],
   "source": [
    "import numpy as np\n",
    "import cvxpy as cp\n",
    "import matplotlib.pyplot as plt\n",
    "\n",
    "A = np.array([[-1, 0],\n",
    "              [0, -1],\n",
    "              [4, 4],\n",
    "              [3, -1]])\n",
    "norms = np.linalg.norm(A, axis=1)\n",
    "b = np.array([0, 0, 20, 5])\n",
    "\n",
    "xx = np.arange(-1, 5, .1)\n",
    "\n",
    "y1 = 0*xx\n",
    "y2 = np.arange(-5, 8, .1)\n",
    "xx2 = 0*y2\n",
    "y3 = (b[2] - A[2,0]*xx)/A[2,1]\n",
    "y4 = (b[3] - A[3,0]*xx)/A[3,1]\n",
    "\n",
    "plt.plot(xx, y1)\n",
    "plt.plot(xx, y3)\n",
    "plt.plot(xx, y4)\n",
    "plt.plot(xx2, y2)\n",
    "\n",
    "# setup the LP\n",
    "r = cp.Variable(1)\n",
    "xc = cp.Variable(2)\n",
    "\n",
    "constraints = []\n",
    "for i in range(4):\n",
    "    constraints.append(A[i,:] @ xc + norms[i] * r <= b[i])\n",
    "\n",
    "objective = cp.Maximize(r)\n",
    "prob = cp.Problem(objective, constraints)\n",
    "sol = prob.solve()\n",
    "print('sol', sol)\n",
    "print('xc.value', xc.value)\n",
    "print('r.value', r.value)\n",
    "center = xc.value\n",
    "circle = plt.Circle((center[0], center[1]), r.value[0], fill=False)\n",
    "fig = plt.gcf()\n",
    "ax = fig.gca()\n",
    "plt.scatter(center[0], center[1])\n",
    "\n",
    "ax.add_patch(circle)\n",
    "ax.axis('equal')\n",
    "ax.set(xlim=(-1, 5), ylim=(-1, 5))"
   ]
  }
 ],
 "metadata": {
  "colab": {
   "collapsed_sections": [],
   "name": "05_precept.ipynb",
   "provenance": [],
   "toc_visible": true
  },
  "kernelspec": {
   "display_name": "Python 3",
   "language": "python",
   "name": "python3"
  },
  "language_info": {
   "codemirror_mode": {
    "name": "ipython",
    "version": 3
   },
   "file_extension": ".py",
   "mimetype": "text/x-python",
   "name": "python",
   "nbconvert_exporter": "python",
   "pygments_lexer": "ipython3",
   "version": "3.7.2"
  }
 },
 "nbformat": 4,
 "nbformat_minor": 1
}
