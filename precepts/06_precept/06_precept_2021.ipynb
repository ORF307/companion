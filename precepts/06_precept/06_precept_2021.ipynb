{
 "cells": [
  {
   "cell_type": "markdown",
   "metadata": {
    "id": "A7AoD97gx_Zt"
   },
   "source": [
    "# ORF307 Precept 6"
   ]
  },
  {
   "cell_type": "markdown",
   "metadata": {
    "id": "jGwX7ZdtQajP"
   },
   "source": [
    "## Q1 Formulate the following problems as LPs"
   ]
  },
  {
   "cell_type": "markdown",
   "metadata": {
    "id": "0sdMiHL1QcwN"
   },
   "source": [
    "Given $A\\in\\mathbf{R}^{m\\times n}, b\\in\\mathbf{R}^m$, find the vector $x\\in\\mathbf{R}^n$ that minimizes\n",
    "$$\n",
    "\\sum_{i=1}^m \\max \\{0, a_i^Tx + b_i\\}.\n",
    "$$"
   ]
  },
  {
   "cell_type": "markdown",
   "metadata": {},
   "source": [
    "## Q2 An equivalence theorem"
   ]
  },
  {
   "cell_type": "markdown",
   "metadata": {},
   "source": [
    "We have a nonempty polyhedron $P=\\{x |Ax \\leq b\\}$."
   ]
  },
  {
   "cell_type": "markdown",
   "metadata": {},
   "source": [
    "(a) Prove that every vertex is an extreme point."
   ]
  },
  {
   "cell_type": "markdown",
   "metadata": {},
   "source": [
    "(b) Prove every extreme point is a basic feasible solution."
   ]
  },
  {
   "cell_type": "markdown",
   "metadata": {
    "id": "cZOfv4ruzUOQ"
   },
   "source": [
    "## Q3 Minimum cost trading to achieve target sector exposures"
   ]
  },
  {
   "cell_type": "markdown",
   "metadata": {},
   "source": [
    "A current portfolio is given by the $n$-vector $h^{\\rm curr}$, with the entries giving the dollar value invested in the $n$ assets. The total value (or net asset value) of the portfolio is $\\mathbf{1}^T h^{\\rm curr}$. \n",
    "\n",
    "We seek a new portfolio, given by the $n$-vector $h$, with the same total value as $h^{\\rm curr}$. The difference $h - h^{\\rm curr}$ is called the trade vector; it gives the amount of each asset (in dollars) that we buy or sell. The $n$ assets are divided into $m$ industry sectors, such as pharmaceuticals or consumer electronics. \n",
    "\n",
    "We let the $m$-vector $s$ denote the (dollar value) sector exposures to the $m$ sectors. These are given by $s = Sh$, where $S$ is the $m\\times n$ sector exposure matrix defined by $S_{ij} = 1$ if asset $j$ is in sector $i$ and $S_{ij} = 0$, if asset $j$ is not in sector $i$. The new portfolio must have a given sector exposure $s^{\\rm des}$. (The given sector exposures are based on forecasts of whether companies in the different sectors will do well or poorly in the future.) Among all portfolios that have the same value as our current portfolio and achieve the desired exposures, we wish to minimize the trading cost, given by\n",
    "$$\n",
    "\\sum_{i=1}^n\\kappa_i(h_i - h_i^{\\rm curr})^2,\n",
    "$$\n",
    "a weighted sum of squares of the asset trades. The weights $\\kappa_i$ are positive. (These depend\n",
    "on the daily trading volumes of assets, as well as other quantities. In general, it is cheaper\n",
    "to trade assets that have high trading volumes.) \n",
    "Explain how to find $h$ using constrained least squares. Give the KKT equations that you would solve to find $h$."
   ]
  }
 ],
 "metadata": {
  "colab": {
   "collapsed_sections": [],
   "name": "05_precept.ipynb",
   "provenance": [],
   "toc_visible": true
  },
  "kernelspec": {
   "display_name": "Python 3",
   "language": "python",
   "name": "python3"
  },
  "language_info": {
   "codemirror_mode": {
    "name": "ipython",
    "version": 3
   },
   "file_extension": ".py",
   "mimetype": "text/x-python",
   "name": "python",
   "nbconvert_exporter": "python",
   "pygments_lexer": "ipython3",
   "version": "3.7.9"
  },
  "latex_envs": {
   "LaTeX_envs_menu_present": true,
   "autoclose": false,
   "autocomplete": true,
   "bibliofile": "biblio.bib",
   "cite_by": "apalike",
   "current_citInitial": 1,
   "eqLabelWithNumbers": true,
   "eqNumInitial": 1,
   "hotkeys": {
    "equation": "Ctrl-E",
    "itemize": "Ctrl-I"
   },
   "labels_anchors": false,
   "latex_user_defs": false,
   "report_style_numbering": false,
   "user_envs_cfg": false
  },
  "toc": {
   "base_numbering": 1,
   "nav_menu": {},
   "number_sections": false,
   "sideBar": true,
   "skip_h1_title": false,
   "title_cell": "Table of Contents",
   "title_sidebar": "Contents",
   "toc_cell": false,
   "toc_position": {},
   "toc_section_display": true,
   "toc_window_display": false
  },
  "varInspector": {
   "cols": {
    "lenName": 16,
    "lenType": 16,
    "lenVar": 40
   },
   "kernels_config": {
    "python": {
     "delete_cmd_postfix": "",
     "delete_cmd_prefix": "del ",
     "library": "var_list.py",
     "varRefreshCmd": "print(var_dic_list())"
    },
    "r": {
     "delete_cmd_postfix": ") ",
     "delete_cmd_prefix": "rm(",
     "library": "var_list.r",
     "varRefreshCmd": "cat(var_dic_list()) "
    }
   },
   "types_to_exclude": [
    "module",
    "function",
    "builtin_function_or_method",
    "instance",
    "_Feature"
   ],
   "window_display": false
  }
 },
 "nbformat": 4,
 "nbformat_minor": 4
}
