{
 "cells": [
  {
   "cell_type": "markdown",
   "metadata": {
    "id": "RJ0Dp7-kSiV1"
   },
   "source": [
    "# ORF307 Homework 2 {-}\n",
    "Due: Friday, Feburary 11, 2022 9:00 pm ET\n",
    "\n",
    "- The jupyter file is available at https://github.com/ORF307/companion\n",
    "- Please export your code with output as `pdf`.\n",
    "- If there is any additional answers, please combine them as **ONE** pdf file before submitting to the Gradescope."
   ]
  },
  {
   "cell_type": "markdown",
   "metadata": {
    "id": "-LQBYiSmSrYQ"
   },
   "source": [
    "# Q1 Least angle property and orthogonality principle of least squares  {-}"
   ]
  },
  {
   "cell_type": "markdown",
   "metadata": {
    "id": "VwwFZ9GuSyV_"
   },
   "source": [
    "Suppose the $m\\times n$ matrix $A$ has linearly independent columns, and $b$ is an $m$-vector. Let $x^\\star$ denote the least squares approximate solution of $Ax = b$, i.e., $A^TAx^\\star = A^Tb$."
   ]
  },
  {
   "cell_type": "markdown",
   "metadata": {},
   "source": [
    "(a) Show that for any $n$-vector $x$, $(Ax)^{T} b = (Ax)^{T} (Ax^\\star)$, i.e., the inner product of $Ax$\n",
    "and $b$ is the same as the inner product of $Ax$ and $Ax^\\star$.\n",
    "\n",
    "*Hint.* Use $(Ax)^T b = x^T (A^T b)$."
   ]
  },
  {
   "cell_type": "markdown",
   "metadata": {},
   "source": [
    "(b) Show that when $Ax^\\star$ and $b$ are both nonzero, we have\n",
    "$$\n",
    "\\frac{(Ax^\\star)^T b}{\\|Ax^\\star\\|_2\\|b\\|_2}\n",
    "= \\frac{\\|Ax^\\star\\|_2}{\\|b\\|_2}.\n",
    "$$\n",
    "The left-hand side is the cosine of the angle between $Ax^\\star$ and $b$. \n",
    "\n",
    "*Hint*. Apply part (a) with $x = x^\\star$."
   ]
  },
  {
   "cell_type": "markdown",
   "metadata": {},
   "source": [
    "(c) *Least angle property of least squares.* Show that $x = x^\\star$ also minimizes the angle between $Ax$ and $b$.\n",
    "(You can assume that $Ax$ and $b$ are nonzero.) \n",
    "\n",
    "*Remark*. For any positive scalar $\\alpha$, $x = \\alpha x^\\star$ also minimizes the angle between $Ax$ and $b$."
   ]
  },
  {
   "cell_type": "markdown",
   "metadata": {},
   "source": [
    "(d) *Orthogonality principle.* The optimal residual $r$ is defined as $r = Ax^\\star-b$. Show that $r$ is orthogonal to the columns of $A$, and therefore, it is orthogonal to any linear combination of the columns of $A$. In other words, for any $n$-vector $z$, we have $(Az)^Tr=0$.\n",
    "\n",
    "*Remark.* This is one of the most important properties of least squares solutions: $Ax^\\star$ is the linear combination of the columns of $A$ that is closest to $b$ and, it is orthogonal to the residual vector $r = Ax^\\star - b$. In other words, $Ax^\\star$ is the \"projection\" of $b$ on the space of linear combinations of the columns of $A$."
   ]
  },
  {
   "cell_type": "markdown",
   "metadata": {},
   "source": [
    "# Q2 Matrix inversion lemma  {-}"
   ]
  },
  {
   "cell_type": "markdown",
   "metadata": {},
   "source": [
    "(a) It is sometimes very cheap to solve subsequent linear systems when the coefficient matrix gets slightly modified. Suppose we have a $n \\times n$ matrix $M$. Given $n$-vectors $u$ and $v$, prove that, if $v^T M^{-1}u \\neq -1$, the following update, called *matrix inversion lemma* holds:\n",
    "$$\n",
    "(M + u v^T)^{-1} = M^{-1} - \\frac{1}{1 + v^T M^{-1}u}M^{-1}uv^TM^{-1}.\n",
    "$$\n",
    "\n",
    "*Hint.* Directly apply the matrix inverse definition, i.e., $(M + u v^T)^{-1}(M + u v^T) = I$.\n",
    "\n",
    "*Remark.* The assumption $v^T M^{-1}u \\neq -1$ can be shown to correspond to $M + uv^T$ being invertible."
   ]
  },
  {
   "cell_type": "markdown",
   "metadata": {},
   "source": [
    "(b) Suppose now that $M$ is symmetric positive definite and that you have already computed a Cholesky decomposition $LL^T$ (therefore, we have a convenient way to solve $Mx = b$), but that we want to solve the linear system\n",
    "$$\n",
    "(M + u v^T)x = b.\n",
    "$$\n",
    "Explain how we can use the recursion in point (a) to do so by solving a few prefactored linear systems.\n",
    "\n",
    "*Hint.* Remember, we never compute inverses explicitly! Every time you have $M^{-1}q$ for some vector $n$-vector $q$, it means solving the linear system $Mz = q$ with $n$-vector $z$."
   ]
  },
  {
   "cell_type": "markdown",
   "metadata": {},
   "source": [
    "(c) Work out the total flop count for this method keeping only the dominant terms and compare it to factoring matrix $M + u v^T$ from scratch.\n"
   ]
  },
  {
   "cell_type": "markdown",
   "metadata": {},
   "source": [
    "# Q3 Moore's  Law {-}"
   ]
  },
  {
   "cell_type": "code",
   "execution_count": 2,
   "metadata": {},
   "outputs": [],
   "source": [
    "# Import required packages for coding exercises\n",
    "import numpy as np\n",
    "import pandas as pd\n",
    "import matplotlib.pyplot as plt\n",
    "from numpy.linalg import cholesky as llt\n",
    "seed = 1\n",
    "np.random.seed(seed) # We use np.random.seed for reproducible results"
   ]
  },
  {
   "cell_type": "markdown",
   "metadata": {},
   "source": [
    "For convenience we have included the following function `lstsq` that solves the least squares problem as we have seen in class returning `x` and factorization `L`."
   ]
  },
  {
   "cell_type": "code",
   "execution_count": 3,
   "metadata": {},
   "outputs": [],
   "source": [
    "def forward_substitution(L, b):\n",
    "    n = L.shape[0]\n",
    "    x = np.zeros(n)\n",
    "    for i in range(n):\n",
    "        x[i] = (b[i] - L[i,:i] @ x[:i])/L[i, i]\n",
    "    return x\n",
    "\n",
    "def backward_substitution(U, b):\n",
    "    n = U.shape[0]\n",
    "    x = np.zeros(n)\n",
    "    for i in reversed(range(n)):\n",
    "        x[i] = (b[i] - U[i,i+1:] @ x[i+1:])/U[i, i]\n",
    "    return x\n",
    "\n",
    "def lstsq(A, b):\n",
    "    M = A.T.dot(A)  # Form Gram matrix\n",
    "    q = A.T.dot(b)  # Form right hand side\n",
    "    L = llt(M)      # Factor\n",
    "    x = forward_substitution(L, q)\n",
    "    x = backward_substitution(L.T, x)\n",
    "    return x, L"
   ]
  },
  {
   "cell_type": "markdown",
   "metadata": {},
   "source": [
    "The figure and table below show the number of transistors $N$ in $13$ microprocessors, and the year of their introduction."
   ]
  },
  {
   "cell_type": "code",
   "execution_count": 1,
   "metadata": {},
   "outputs": [
    {
     "data": {
      "text/html": [
       "<div>\n",
       "<style scoped>\n",
       "    .dataframe tbody tr th:only-of-type {\n",
       "        vertical-align: middle;\n",
       "    }\n",
       "\n",
       "    .dataframe tbody tr th {\n",
       "        vertical-align: top;\n",
       "    }\n",
       "\n",
       "    .dataframe thead th {\n",
       "        text-align: right;\n",
       "    }\n",
       "</style>\n",
       "<table border=\"1\" class=\"dataframe\">\n",
       "  <thead>\n",
       "    <tr style=\"text-align: right;\">\n",
       "      <th></th>\n",
       "      <th>t</th>\n",
       "      <th>N</th>\n",
       "    </tr>\n",
       "  </thead>\n",
       "  <tbody>\n",
       "    <tr>\n",
       "      <th>0</th>\n",
       "      <td>1971</td>\n",
       "      <td>2250</td>\n",
       "    </tr>\n",
       "    <tr>\n",
       "      <th>1</th>\n",
       "      <td>1972</td>\n",
       "      <td>2500</td>\n",
       "    </tr>\n",
       "    <tr>\n",
       "      <th>2</th>\n",
       "      <td>1974</td>\n",
       "      <td>5000</td>\n",
       "    </tr>\n",
       "    <tr>\n",
       "      <th>3</th>\n",
       "      <td>1978</td>\n",
       "      <td>29000</td>\n",
       "    </tr>\n",
       "    <tr>\n",
       "      <th>4</th>\n",
       "      <td>1982</td>\n",
       "      <td>120000</td>\n",
       "    </tr>\n",
       "    <tr>\n",
       "      <th>5</th>\n",
       "      <td>1985</td>\n",
       "      <td>275000</td>\n",
       "    </tr>\n",
       "    <tr>\n",
       "      <th>6</th>\n",
       "      <td>1989</td>\n",
       "      <td>1180000</td>\n",
       "    </tr>\n",
       "    <tr>\n",
       "      <th>7</th>\n",
       "      <td>1993</td>\n",
       "      <td>3100000</td>\n",
       "    </tr>\n",
       "    <tr>\n",
       "      <th>8</th>\n",
       "      <td>1997</td>\n",
       "      <td>7500000</td>\n",
       "    </tr>\n",
       "    <tr>\n",
       "      <th>9</th>\n",
       "      <td>1999</td>\n",
       "      <td>24000000</td>\n",
       "    </tr>\n",
       "    <tr>\n",
       "      <th>10</th>\n",
       "      <td>2000</td>\n",
       "      <td>42000000</td>\n",
       "    </tr>\n",
       "    <tr>\n",
       "      <th>11</th>\n",
       "      <td>2002</td>\n",
       "      <td>220000000</td>\n",
       "    </tr>\n",
       "    <tr>\n",
       "      <th>12</th>\n",
       "      <td>2003</td>\n",
       "      <td>410000000</td>\n",
       "    </tr>\n",
       "  </tbody>\n",
       "</table>\n",
       "</div>"
      ],
      "text/plain": [
       "       t          N\n",
       "0   1971       2250\n",
       "1   1972       2500\n",
       "2   1974       5000\n",
       "3   1978      29000\n",
       "4   1982     120000\n",
       "5   1985     275000\n",
       "6   1989    1180000\n",
       "7   1993    3100000\n",
       "8   1997    7500000\n",
       "9   1999   24000000\n",
       "10  2000   42000000\n",
       "11  2002  220000000\n",
       "12  2003  410000000"
      ]
     },
     "execution_count": 1,
     "metadata": {},
     "output_type": "execute_result"
    }
   ],
   "source": [
    "# Data\n",
    "t = np.array([1971, 1972, 1974, 1978, 1982, 1985, 1989, 1993, 1997, 1999, 2000, 2002, 2003])\n",
    "N = np.array([2250, 2500, 5000, 29000, 120000, 275000, 1180000, 3100000, 7500000, 24000000, 42000000, \\\n",
    "              220000000, 410000000])\n",
    "\n",
    "# Show data as dataframe\n",
    "# NB. Jupyter makes a nice table out of a pandas dataframe\n",
    "pd.DataFrame({'t': t, \n",
    "              'N': N})"
   ]
  },
  {
   "cell_type": "code",
   "execution_count": 2,
   "metadata": {},
   "outputs": [
    {
     "data": {
      "image/png": "[encoded data removed]",
      "text/plain": [
       "<Figure size 432x288 with 1 Axes>"
      ]
     },
     "metadata": {
      "needs_background": "light"
     },
     "output_type": "display_data"
    }
   ],
   "source": [
    "fig, ax = plt.subplots(1,1)\n",
    "ax.scatter(t, N, marker='o', color='k', facecolors='none')\n",
    "ax.set_xlabel(r'Year')\n",
    "ax.set_ylabel(r'Transistors')\n",
    "ax.set_yscale('log')\n",
    "ax.grid('on')"
   ]
  },
  {
   "cell_type": "markdown",
   "metadata": {},
   "source": [
    "The plot gives the number of transistors on a logarithmic scale. Find the least squares\n",
    "straight-line fit of the data using the model\n",
    "$$\n",
    "\\log_{10} N \\approx \\theta_1 + \\theta_2(t - 1970),\n",
    "$$\n",
    "where $t$ is the year and $N$ is the number of transistors. Note that $\\theta_1$ is the model's\n",
    "prediction of the $\\log$ of the number of transistors in 1970, and $10^{\\theta_2}$ gives the model's\n",
    "prediction of the fractional increase in number of transistors per year.\n",
    "\n"
   ]
  },
  {
   "cell_type": "markdown",
   "metadata": {},
   "source": [
    "(a) Find the coefficients $\\theta_1$ and $\\theta_2$ that minimize the mean square error on the data using the `lstsq` function above. Give\n",
    "the mean square error on the data. Plot the model you find along with the data points."
   ]
  },
  {
   "cell_type": "markdown",
   "metadata": {},
   "source": [
    "(b) The first point-contact transistor was invented in 1947. Now let $N=1$, where $\\log_{10}N=0$, and then find $t$. See if your model fits the historical data well."
   ]
  },
  {
   "cell_type": "markdown",
   "metadata": {},
   "source": [
    "(c) Use your model to predict the number of transistors in a microprocessor introduced\n",
    "in 2015. Compare the prediction to the IBM Z13 microprocessor, released in 2015, which has around $4\\times 10^9$ transistors."
   ]
  },
  {
   "cell_type": "markdown",
   "metadata": {},
   "source": [
    "(d) Compare your result with Moore's law, which states that the number of transistors per integrated circuit roughly doubles every one and a half to two years."
   ]
  }
 ],
 "metadata": {
  "colab": {
   "name": "ORF307_HW1.ipynb",
   "provenance": []
  },
  "kernelspec": {
   "display_name": "Python 3",
   "language": "python",
   "name": "python3"
  },
  "language_info": {
   "codemirror_mode": {
    "name": "ipython",
    "version": 3
   },
   "file_extension": ".py",
   "mimetype": "text/x-python",
   "name": "python",
   "nbconvert_exporter": "python",
   "pygments_lexer": "ipython3",
   "version": "3.7.2"
  },
  "toc": {
   "base_numbering": 1,
   "nav_menu": {},
   "number_sections": true,
   "sideBar": true,
   "skip_h1_title": false,
   "title_cell": "Table of Contents",
   "title_sidebar": "Contents",
   "toc_cell": false,
   "toc_position": {},
   "toc_section_display": true,
   "toc_window_display": false
  }
 },
 "nbformat": 4,
 "nbformat_minor": 4
}
