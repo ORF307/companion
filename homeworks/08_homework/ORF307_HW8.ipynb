{
 "cells": [
  {
   "cell_type": "markdown",
   "metadata": {
    "id": "o0R7G_oI8dcx"
   },
   "source": [
    "# ORF307 Homework 8 {-} \n",
    "\n",
    "\n",
    "Due: Friday, April 29, 2022 9:00 pm ET\n",
    "\n",
    "- Please export your code with output as pdf.\n",
    "- If there is any additional answers, please combine them as **ONE** pdf file before submitting to the Gradescope."
   ]
  },
  {
   "cell_type": "markdown",
   "metadata": {
    "id": "lIxZgyMj8_0W"
   },
   "source": [
    "# Q1 A small integer programming problem {-}"
   ]
  },
  {
   "cell_type": "markdown",
   "metadata": {
    "id": "83_OWJfB8_5Y"
   },
   "source": [
    "Consider the following integer programming problem:\n",
    "$$\n",
    "\\begin{array}{ll}\n",
    "\\mbox{minimize} & -x_1 - 2x_2\\\\\n",
    "\\mbox{subject to} &-3x_1 + 4x_2 \\le 4\\\\\n",
    "&3x_1 + 2x_2 \\le 11\\\\\n",
    "&2x_1 - x_2 \\le 5\\\\\n",
    "&x_1, x_2 \\ge 0\\\\\n",
    "&x_1, x_2 \\in \\mathbf{Z}.\n",
    "\\end{array}\n",
    "$$\n",
    "Use a figure to answer the following questions:\n",
    "\n",
    "1. What is the optimal cost of the linear programming relaxation? What is the optimal cost of the integer programming problem?\n",
    "2. What is the convex hull of the set of all solutions to the integer programming problem?\n",
    "3. Solve the problem by branch and bound. You can solve the linear programming relaxations graphically. Show the resulting tree."
   ]
  },
  {
   "cell_type": "markdown",
   "metadata": {},
   "source": [
    "\\newpage"
   ]
  },
  {
   "cell_type": "markdown",
   "metadata": {},
   "source": [
    "# Q2 Planning to move {-}"
   ]
  },
  {
   "cell_type": "markdown",
   "metadata": {},
   "source": [
    "It is the end of the semester and you might be planning to change accommodation. Moving is complicated and you want to use some integer programming tricks to make your life easier. \n",
    "\n",
    "You rented a truck with capacity $Q$ and you bought $m$ boxes. Each box $i$ has size $b_i$ for $i=1,\\dots,m$. You have $n$ items to move of size $a_j$ for $j=1,\\dots,n$. \n",
    "\n",
    "1. Formulate your packing problem as an integer programming problem to determine if your move is doable with the truck and the boxes you have.\n",
    "2. Given the data below, is your move feasible? If so, what is the minimum number of boxes you need to use? Answer using a solver such as `GLPK_MI` or `GUROBI`.\n",
    "\n",
    "    *Note*. If you find that `GLPK_MI` is taking too long to return a solution, please run it with the `tm_lim=30000` option which sets the time limit to 30 seconds: `problem.solve(solver=cp.GLPK_MI, tm_lim=30000)`. For this problem, the solution returned after 30 seconds is already optimal."
   ]
  },
  {
   "cell_type": "code",
   "execution_count": null,
   "metadata": {},
   "outputs": [],
   "source": [
    "import numpy as np\n",
    "n = 30 # Number of items\n",
    "m = 10 # Number of boxes\n",
    "Q = 100 # Truck capacity\n",
    "\n",
    "# Item sizes\n",
    "a = np.array([4, 3, 1, 2, 2,\n",
    "              5, 4, 2, 4, 2,\n",
    "              4, 1, 5, 2, 1,\n",
    "              3, 5, 3, 3, 3,\n",
    "              4, 5, 5, 2, 3,\n",
    "              3, 3, 2, 2, 2])  \n",
    "\n",
    "# Box sizes\n",
    "b = np.array([7, 19, 10, 14, 10, 12, 13, 10, 15, 14])"
   ]
  }
 ],
 "metadata": {
  "colab": {
   "collapsed_sections": [],
   "name": "ORF307HW6.ipynb",
   "provenance": []
  },
  "kernelspec": {
   "display_name": "Python 3",
   "language": "python",
   "name": "python3"
  },
  "language_info": {
   "codemirror_mode": {
    "name": "ipython",
    "version": 3
   },
   "file_extension": ".py",
   "mimetype": "text/x-python",
   "name": "python",
   "nbconvert_exporter": "python",
   "pygments_lexer": "ipython3",
   "version": "3.7.2"
  },
  "latex_envs": {
   "LaTeX_envs_menu_present": true,
   "autoclose": false,
   "autocomplete": true,
   "bibliofile": "biblio.bib",
   "cite_by": "apalike",
   "current_citInitial": 1,
   "eqLabelWithNumbers": true,
   "eqNumInitial": 1,
   "hotkeys": {
    "equation": "Ctrl-E",
    "itemize": "Ctrl-I"
   },
   "labels_anchors": false,
   "latex_user_defs": false,
   "report_style_numbering": false,
   "user_envs_cfg": false
  },
  "toc": {
   "base_numbering": 1,
   "nav_menu": {},
   "number_sections": false,
   "sideBar": true,
   "skip_h1_title": false,
   "title_cell": "Table of Contents",
   "title_sidebar": "Contents",
   "toc_cell": false,
   "toc_position": {},
   "toc_section_display": true,
   "toc_window_display": false
  },
  "varInspector": {
   "cols": {
    "lenName": 16,
    "lenType": 16,
    "lenVar": 40
   },
   "kernels_config": {
    "python": {
     "delete_cmd_postfix": "",
     "delete_cmd_prefix": "del ",
     "library": "var_list.py",
     "varRefreshCmd": "print(var_dic_list())"
    },
    "r": {
     "delete_cmd_postfix": ") ",
     "delete_cmd_prefix": "rm(",
     "library": "var_list.r",
     "varRefreshCmd": "cat(var_dic_list()) "
    }
   },
   "types_to_exclude": [
    "module",
    "function",
    "builtin_function_or_method",
    "instance",
    "_Feature"
   ],
   "window_display": false
  }
 },
 "nbformat": 4,
 "nbformat_minor": 4
}
