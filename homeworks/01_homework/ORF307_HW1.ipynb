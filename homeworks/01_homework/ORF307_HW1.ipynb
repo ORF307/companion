{
 "cells": [
  {
   "cell_type": "markdown",
   "metadata": {
    "id": "RJ0Dp7-kSiV1"
   },
   "source": [
    "# ORF307 Homework 1 {-}\n",
    "Due: Friday, Feburary 4, 2021 9:00 pm ET\n",
    "\n",
    "- The jupyter file is available at [https://github.com/ORF307/companion](https://github.com/ORF307/companion)\n",
    "- Please export your code with output as `pdf`.\n",
    "- If there is any additional answers, please combine them as **ONE** pdf file before submitting to the Gradescope."
   ]
  },
  {
   "cell_type": "markdown",
   "metadata": {
    "id": "-LQBYiSmSrYQ"
   },
   "source": [
    "# Q1 Interpolation of rational functions {-}"
   ]
  },
  {
   "cell_type": "markdown",
   "metadata": {
    "id": "VwwFZ9GuSyV_"
   },
   "source": [
    "A rational function of degree two has the form $$f(t) = \\frac{c_1 + c_2 t + c_3 t^2}{1 + d_1 t + d_2 t^2}$$ where $c_1, c_2, c_3, d_1, d_2$ are coefficients.  (‘Rational’ refers to the fact that f is a ratio of polynomials. Another name for f is bi-quadratic.) Consider the interpolation conditions $$f(t_i) = y_i \\quad i=1,...,K$$  where $t_i$ and $y_i$ are given numbers. Express the interpolation conditions as a set of linear\n",
    "equations in the vector of coefficients $\\theta = (c_1, c_2, c_3, d_1, d_2)$, as $A \\theta = b$. Give $A$ and $b$, and\n",
    "their dimensions."
   ]
  },
  {
   "cell_type": "markdown",
   "metadata": {
    "id": "ZSCmF1KaS5Ll"
   },
   "source": [
    "# Q2 Python timing test for linear equations {-}"
   ]
  },
  {
   "cell_type": "markdown",
   "metadata": {
    "id": "j3iMyVNWTCa3"
   },
   "source": [
    "(a) Determine how long it takes for your computer to solve a system $Ax = b$ of $n=2000$ linear equations in $n=2000$ variables (with invertible coefficient matrix) using the Python's inverse function.  You may use the following code to get you started.  \n"
   ]
  },
  {
   "cell_type": "code",
   "execution_count": null,
   "metadata": {},
   "outputs": [],
   "source": [
    "import numpy as np\n",
    "from time import time\n",
    "N = 3000\n",
    "A = 1 + np.random.normal(size=(N,N))\n",
    "b = np.ones(N)\n",
    "\n",
    "t_start = time()\n",
    "Ainv = np.linalg.inv(A) # Compute inverse\n",
    "# some other operation to solve the system ...\n",
    "elapsed_time = time() - t_start\n",
    "print('time to solve (a):', elapsed_time, 'sec')"
   ]
  },
  {
   "cell_type": "markdown",
   "metadata": {},
   "source": [
    "(b) Python is rather clever about how it solves linear systems.  Use the following function to solve the same linear system and determine how long it takes your computer to solve it.  Verify that you get the same solution as from part (a)."
   ]
  },
  {
   "cell_type": "code",
   "execution_count": null,
   "metadata": {},
   "outputs": [],
   "source": [
    "x = np.linalg.solve(A,b)"
   ]
  },
  {
   "cell_type": "markdown",
   "metadata": {},
   "source": [
    "(c) Now we will use $LU$ factorization to solve the linear system.  Use the following lines to first factorize the matrix $A$ as $A = PLU$ where $P$ is a permutation matrix, $L$ is a lower triangular matrix and $U$ is a upper triangular matrix. The idea is that we have $Ax = PLUx = b$.  For convenience we have coded the functions `forward_substitution` and `backward_substitution` for you. A property of any permutation matrix $P$ is that $P^TP = I$.  Use this property to solve the same linear system as in the previous parts and determine how long your computer takes.  Verify that you get the same solution as from parts (a) and (b). \n",
    "\n",
    "**Note** Your implementation is not going to be the fastest one, but it will work well. If written in a lower level language such as C or C++, it can sometimes be faster. That's part of the tricks inside numpy's `np.linalg.solve` function."
   ]
  },
  {
   "cell_type": "code",
   "execution_count": null,
   "metadata": {},
   "outputs": [],
   "source": [
    "def forward_substitution(L, b):\n",
    "    n = L.shape[0]\n",
    "    x = np.zeros(n)\n",
    "    for i in range(n):\n",
    "        x[i] = (b[i] - L[i,:i] @ x[:i])/L[i, i]\n",
    "    return x\n",
    "\n",
    "def backward_substitution(U, b):\n",
    "    n = U.shape[0]\n",
    "    x = np.zeros(n)\n",
    "    for i in reversed(range(n)):\n",
    "        x[i] = (b[i] - U[i,i+1:] @ x[i+1:])/U[i, i]\n",
    "    return x"
   ]
  },
  {
   "cell_type": "code",
   "execution_count": null,
   "metadata": {},
   "outputs": [],
   "source": [
    "def solve_via_lu(P, L, U, b):\n",
    "    '''\n",
    "    Solve linear system Ax = b where\n",
    "        A = PLU\n",
    "    '''\n",
    "\n",
    "    # Complete ...\n",
    "    \n",
    "    return x"
   ]
  },
  {
   "cell_type": "code",
   "execution_count": null,
   "metadata": {},
   "outputs": [],
   "source": [
    "from scipy.linalg import lu\n",
    "# ...\n",
    "P, L, U = lu(A)  # Factor matrix A as A = PLU\n",
    "x_lu = solve_via_lu(P, L, U, b)  # Solve via LU decomposition\n",
    "# ..."
   ]
  },
  {
   "cell_type": "markdown",
   "metadata": {},
   "source": [
    "(d) Can you explain why the times differ by so much between parts (a) and (b)? How does the time in (c) compare? "
   ]
  },
  {
   "cell_type": "markdown",
   "metadata": {
    "id": "sUNwapIFTJKg"
   },
   "source": [
    "# Q3 {-}\n",
    "Suppse $x$ and $y$ are Boolean feature vectors, *i.e.*, each entry is either 0 or 1, that encode the presence of symptoms in patients Alice and Bob. Which of the following are true statements? **Please justify your answers**."
   ]
  },
  {
   "cell_type": "markdown",
   "metadata": {
    "id": "XvumF5dDWnhf"
   },
   "source": [
    "(a) $x ^T y$ is number of symptoms Alice and Bob have in common"
   ]
  },
  {
   "cell_type": "markdown",
   "metadata": {
    "id": "db8CrDVxYvo2"
   },
   "source": [
    "(b) $\\| x \\| ^2$ is the number of symptoms Alice has "
   ]
  },
  {
   "cell_type": "markdown",
   "metadata": {
    "id": "UGyngogkZm-n"
   },
   "source": [
    "(c) $\\mathbf{1}^Ty$ is number of symptoms Bob has"
   ]
  },
  {
   "cell_type": "markdown",
   "metadata": {
    "id": "Ykqmp8FhZnIi"
   },
   "source": [
    "(d) $\\|x-y\\|^2$ is number of symptoms Alice has but Bob does not"
   ]
  },
  {
   "cell_type": "markdown",
   "metadata": {
    "id": "6YRS5TOXZnOU"
   },
   "source": [
    "(e) $\\mathbf{1}^T (x-y)$ is the number of symptoms Alice has but Bob does not"
   ]
  },
  {
   "cell_type": "markdown",
   "metadata": {
    "id": "qM-sOumJZnTQ"
   },
   "source": [
    "(f) $x^T y = 0$ means that Alice and Bob do not share any symptoms"
   ]
  }
 ],
 "metadata": {
  "colab": {
   "name": "ORF307_HW1.ipynb",
   "provenance": []
  },
  "kernelspec": {
   "display_name": "Python 3 (ipykernel)",
   "language": "python",
   "name": "python3"
  },
  "language_info": {
   "codemirror_mode": {
    "name": "ipython",
    "version": 3
   },
   "file_extension": ".py",
   "mimetype": "text/x-python",
   "name": "python",
   "nbconvert_exporter": "python",
   "pygments_lexer": "ipython3",
   "version": "3.7.6"
  }
 },
 "nbformat": 4,
 "nbformat_minor": 4
}
