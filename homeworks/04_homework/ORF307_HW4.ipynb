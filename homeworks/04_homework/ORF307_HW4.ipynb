{
 "cells": [
  {
   "cell_type": "markdown",
   "metadata": {
    "id": "pZSQeNpsaelv"
   },
   "source": [
    "# ORF307 Homework 4 {-}\n",
    "Due: Friday, March 3, 2023 9:00 pm ET\n",
    "\n",
    "- The jupyter file is available at https://github.com/ORF307/companion\n",
    "- Please export your code with output as `pdf`.\n",
    "- If there is any additional answers, please combine them as **ONE** pdf file before submitting to the Gradescope."
   ]
  },
  {
   "cell_type": "markdown",
   "metadata": {
    "id": "qfQE4OqVcljm"
   },
   "source": [
    "# Q1 Fitting a line with different norms {-}"
   ]
  },
  {
   "cell_type": "markdown",
   "metadata": {
    "id": "hJkW_UC1iyQa"
   },
   "source": [
    "Import the file `HW4Q1.csv` using the following lines of code, you might have to change `HW4Q1.csv` to the corresponding filepath on your machine/Google Drive:"
   ]
  },
  {
   "cell_type": "code",
   "execution_count": 2,
   "metadata": {},
   "outputs": [],
   "source": [
    "import pandas as pd\n",
    "import numpy as np\n",
    "# df = pd.read_csv('/content/drive/MyDrive/HW4Q1.csv')\n",
    "df = pd.read_csv('HW4Q1.csv')\n",
    "y = df['y'].values\n",
    "t = df['t'].values"
   ]
  },
  {
   "cell_type": "markdown",
   "metadata": {},
   "source": [
    "This will generate two vectors $y,t \\in {\\mathbf{R}}^{42}$. We are interested in fitting a linear function \n",
    "$$f(t) = \\alpha + \\beta t,$$ \n",
    "through the points $(t_i, y_i)$, *i.e.*, we want to select $\\alpha$ and $\\beta$ such that $f(t_i) \\approx y_i, i = 1,\\dots, 42$.\n",
    "We can caluclate $\\alpha$ and $\\beta$ by optimizing the following three criteria."
   ]
  },
  {
   "cell_type": "markdown",
   "metadata": {
    "id": "olcZ4j_PnVEO"
   },
   "source": [
    "(a) *Least-squares:* select $\\alpha$ and $\\beta$ by minimizing $$\\sum_{i=1}^{42} (y_i - \\alpha - \\beta t_i)^2.$$"
   ]
  },
  {
   "cell_type": "markdown",
   "metadata": {
    "id": "Xk_4GofJnVAK"
   },
   "source": [
    "(b) $\\ell_1$*-norm approximation:* select $\\alpha$ and $\\beta$ by minimizing $$ \\sum_{i=1}^{42} \\lvert y_i - \\alpha - \\beta t_i \\rvert.$$"
   ]
  },
  {
   "cell_type": "markdown",
   "metadata": {
    "id": "KhkY7ClinU36"
   },
   "source": [
    "(c) $\\ell_\\infty$*-norm approximation:* select $\\alpha$ and $\\beta$ by minimizing $$ \\max_{i=1,\\dots,42} \\lvert y_i - \\alpha - \\beta t_i \\rvert.$$"
   ]
  },
  {
   "cell_type": "markdown",
   "metadata": {
    "id": "mIwyXwA4rDs5"
   },
   "source": [
    "Find the optimal values of $\\alpha$ and $\\beta$ for each of the three optimization criteria. This yields three linear functions $f_{\\rm ls}(t), f_{\\ell_1}(t), f_{\\ell_\\infty}$. Plot the 42 data points, and the three functions $f$. What do you observe?"
   ]
  },
  {
   "cell_type": "markdown",
   "metadata": {
    "id": "XpLgxhb2aiNB"
   },
   "source": [
    "# Q2 Linear programs with absolute values {-}"
   ]
  },
  {
   "cell_type": "markdown",
   "metadata": {},
   "source": [
    "Consider the problem\n",
    "\n",
    "$$\n",
    "\\begin{array}{ll}\\tag{1}\n",
    "\\mbox{minimize} &2x_1 + 3 \\lvert x_2 - 10 \\rvert\\\\\n",
    "\\text{subject to} &\\lvert x_1 + 2 \\rvert + \\lvert x_2 \\rvert \\le 5,\n",
    "\\end{array}\n",
    "$$"
   ]
  },
  {
   "cell_type": "markdown",
   "metadata": {
    "id": "flsVYS0yV04F"
   },
   "source": [
    "(a) Reformulate this as a linear program."
   ]
  },
  {
   "cell_type": "markdown",
   "metadata": {
    "id": "XCxAS_BiV5tu"
   },
   "source": [
    "(b) Reformulate this as a linear program in standard form."
   ]
  },
  {
   "cell_type": "markdown",
   "metadata": {
    "id": "oaya_yvYWC0i"
   },
   "source": [
    "(c) Solve problem (1) graphically."
   ]
  },
  {
   "cell_type": "markdown",
   "metadata": {
    "id": "xYKyNrO7ciEU"
   },
   "source": [
    "# Q3 Optimal Illumination {-}"
   ]
  },
  {
   "cell_type": "markdown",
   "metadata": {},
   "source": [
    "We consider an illumination system of m lamps, at positions $l_1, . . . , l_m \\in {\\mathbf{R}}^2$\n",
    ", illuminating n flat patches."
   ]
  },
  {
   "cell_type": "markdown",
   "metadata": {
    "id": "7h_1VfrydS86"
   },
   "source": [
    "![image.png](image.png)"
   ]
  },
  {
   "cell_type": "markdown",
   "metadata": {},
   "source": [
    "The patches are line segments; the ith patch is given by $[v_i\n",
    ", v_{i+1}]$ where $v_1, \\dots , v_{n+1} \\in \\mathbf{R}^2$. The variables in the problem are the lamp powers $p_1, \\dots , p_m$, which can vary between 0 and 1. The illumination at (the midpoint of) patch $i$ is denoted $I_i$. We will use a simple model for the illumination:\n",
    "\n",
    "$$ I_i = \\sum_{j=1}^m a_{ij} p_j, \\qquad a_{ij} = r_{ij}^{-2} \\max\\{\\cos \\theta_{ij},0 \\},$$\n",
    "\n",
    "where $r_{ij}$ denotes the distance between lamp $j$ and the midpoint of patch $i$, and $θ_{ij}$ denotes the angle between the upward normal of patch $i$ and the vector from the midpoint of patch $i$ to lamp $j$, as shown in the figure. This model takes into account “self-shading” (*i.e.*, the fact that a patch is illuminated only by lamps in the halfspace it faces) but not shading of\n",
    "one patch caused by another. Of course we could use a more complex illumination model, including shading and even reflections. This just changes the matrix relating the lamp powers to the patch illumination levels.\n",
    "\n",
    "The problem is to determine lamp powers that make the illumination levels close to a given desired illumination level $I_{\\rm des}$, subject to the power limits $0 \\le p_i \\le 1$."
   ]
  },
  {
   "cell_type": "markdown",
   "metadata": {
    "id": "hB3NuFZmf7sX"
   },
   "source": [
    "(a) Suppose we use the maximum deviation $$\\phi(p) = \\max_{k=1,\\dots,n} \\lvert I_k - I_{\\rm des}\\rvert$$ as a measure for the deviation from the desired illumination level. Formulate the illumination problem using this criterion as a linear optimization problem."
   ]
  },
  {
   "cell_type": "markdown",
   "metadata": {},
   "source": [
    "(b) There are several suboptimal approaches based on weighted least-squares. You are given $A$ (where the entries of $A$ are $a_{ij}$ in the model for illumination) and $I_{\\rm des}$. Import the file `HW4Q3.csv` using the following lines of code, you might have to change `HW4Q3.csv` to the corresponding filepath on your machine/Google Drive"
   ]
  },
  {
   "cell_type": "code",
   "execution_count": 3,
   "metadata": {},
   "outputs": [],
   "source": [
    "# A_pd = pd.read_csv('/content/drive/MyDrive/HW4Q3.csv', header=None)\n",
    "A_pd = pd.read_csv('HW4Q3.csv', header=None)\n",
    "A = A_pd.to_numpy()\n",
    "I_des = 2"
   ]
  },
  {
   "cell_type": "markdown",
   "metadata": {},
   "source": [
    "We consider two examples.\n",
    "\n",
    "1. *Saturated least-squares.* We can solve the least-squares problem\n",
    "$$ \\mbox{minimize}\\quad \\sum_{k=1}^n (I_k − I_{\\rm des})^2$$ \n",
    "\n",
    "ignoring the constraints. If the solution is not feasible, we saturate it, *i.e.*, set $p_j = 0$ if $p_j \\le 0$ and $p_j = 1$ if $p_j \\ge 1$. Compute a feasible $p$ using this first method, and calculate $\\phi(p)$.\n",
    "\n",
    "2. *Weighted least-squares.* We consider another least-squares problem:\n",
    "$$ \\mbox{minimize}\\quad  \\sum_{k=1}^n (I_k − I_{\\rm des})^2 + \\mu \\sum_{i=1}^m (p_i - 0.5)^2,$$ \n",
    "\n",
    "where $\\mu \\ge 0$ is used to attach a cost to a deviation of the powers from the value 0.5, which lies in the middle of the power limits. For large enough $\\mu$, the solution of this problem will satisfy $0 \\le \\pi \\le 1$, *i.e.*, be feasible for the original problem. Again, using the same $A$ and $I_{\\rm des}$, find the smallest $\\mu$ such that $p$ becomes feasible, and evaluate $\\phi(p)$."
   ]
  },
  {
   "cell_type": "markdown",
   "metadata": {
    "id": "P1nYreE0Xz6D"
   },
   "source": [
    "(c) Using the same data as in part (b), solve the LP you derived in part (a). Compare the solution with the solutions you obtained using the (weighted) least-squares methods of part (b).\n"
   ]
  }
 ],
 "metadata": {
  "colab": {
   "collapsed_sections": [],
   "name": "ORF307HW4.ipynb",
   "provenance": [],
   "toc_visible": true
  },
  "kernelspec": {
   "display_name": "Python 3",
   "language": "python",
   "name": "python3"
  },
  "language_info": {
   "codemirror_mode": {
    "name": "ipython",
    "version": 3
   },
   "file_extension": ".py",
   "mimetype": "text/x-python",
   "name": "python",
   "nbconvert_exporter": "python",
   "pygments_lexer": "ipython3",
   "version": "3.8.8"
  }
 },
 "nbformat": 4,
 "nbformat_minor": 4
}
