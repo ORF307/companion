{
 "cells": [
  {
   "cell_type": "markdown",
   "metadata": {
    "id": "pZSQeNpsaelv"
   },
   "source": [
    "# ORF307 Homework 4 {-}\n",
    "Due: Friday, February 25, 2021 9:00 pm ET\n",
    "\n",
    "- Please export your code with output as pdf.\n",
    "- If there is any additional answers, please combine them as **ONE** pdf file before submitting to the Gradescope. Gradescope."
   ]
  },
  {
   "cell_type": "markdown",
   "metadata": {
    "id": "qfQE4OqVcljm"
   },
   "source": [
    "# Q1 Fitting a line with different norms {-}"
   ]
  },
  {
   "cell_type": "markdown",
   "metadata": {
    "id": "hJkW_UC1iyQa"
   },
   "source": [
    "Import the file `HW4Q1.csv` using the following lines of code, you might have to change `HW4Q1.csv` to the corresponding filepath on your machine/Google Drive:"
   ]
  },
  {
   "cell_type": "code",
   "execution_count": 2,
   "metadata": {},
   "outputs": [],
   "source": [
    "import pandas as pd\n",
    "import numpy as np\n",
    "# df = pd.read_csv('/content/drive/MyDrive/HW4Q1.csv')\n",
    "df = pd.read_csv('HW4Q1.csv')\n",
    "y = df['y'].values\n",
    "t = df['t'].values"
   ]
  },
  {
   "cell_type": "markdown",
   "metadata": {},
   "source": [
    "This will generate two vectors $y,t \\in {\\mathbf{R}}^{42}$. We are interested in fitting a linear function \n",
    "$$f(t) = \\alpha + \\beta t,$$ \n",
    "through the points $(t_i, y_i)$, *i.e.*, we want to select $\\alpha$ and $\\beta$ such that $f(t_i) \\approx y_i, i = 1,\\dots, 42$.\n",
    "We can caluclate $\\alpha$ and $\\beta$ by optimizing the following three criteria."
   ]
  },
  {
   "cell_type": "markdown",
   "metadata": {
    "id": "olcZ4j_PnVEO"
   },
   "source": [
    "(a) *Least-squares:* select $\\alpha$ and $\\beta$ by minimizing $$\\sum_{i=1}^{42} (y_i - \\alpha - \\beta t_i)^2.$$"
   ]
  },
  {
   "cell_type": "markdown",
   "metadata": {
    "id": "Xk_4GofJnVAK"
   },
   "source": [
    "(b) $\\ell_1$*-norm approximation:* select $\\alpha$ and $\\beta$ by minimizing $$ \\sum_{i=1}^{42} \\lvert y_i - \\alpha - \\beta t_i \\rvert.$$"
   ]
  },
  {
   "cell_type": "markdown",
   "metadata": {
    "id": "KhkY7ClinU36"
   },
   "source": [
    "(c) $\\ell_\\infty$*-norm approximation:* select $\\alpha$ and $\\beta$ by minimizing $$ \\max_{i=1,\\dots,42} \\lvert y_i - \\alpha - \\beta t_i \\rvert.$$"
   ]
  },
  {
   "cell_type": "markdown",
   "metadata": {
    "id": "mIwyXwA4rDs5"
   },
   "source": [
    "Find the optimal values of $\\alpha$ and $\\beta$ for each of the three optimization criteria. This yields three linear functions $f_{\\rm ls}(t), f_{\\ell_1}(t), f_{\\ell_\\infty}$. Plot the 42 data points, and the three functions $f$. What do you observe?"
   ]
  },
  {
   "cell_type": "markdown",
   "metadata": {
    "id": "XpLgxhb2aiNB"
   },
   "source": [
    "# Q2 Linear programs with absolute values {-}"
   ]
  },
  {
   "cell_type": "markdown",
   "metadata": {},
   "source": [
    "Consider the problem\n",
    "\n",
    "$$\n",
    "\\begin{array}{ll}\\tag{1}\n",
    "\\mbox{minimize} &2x_1 + 3 \\lvert x_2 - 10 \\rvert\\\\\n",
    "\\text{subject to} &\\lvert x_1 + 2 \\rvert + \\lvert x_2 \\rvert \\le 5,\n",
    "\\end{array}\n",
    "$$"
   ]
  },
  {
   "cell_type": "markdown",
   "metadata": {
    "id": "flsVYS0yV04F"
   },
   "source": [
    "(a) Reformulate this as a linear program."
   ]
  },
  {
   "cell_type": "markdown",
   "metadata": {
    "id": "XCxAS_BiV5tu"
   },
   "source": [
    "(b) Reformulate this as a linear program in standard form."
   ]
  },
  {
   "cell_type": "markdown",
   "metadata": {
    "id": "oaya_yvYWC0i"
   },
   "source": [
    "(c) Solve problem (1) graphically."
   ]
  },
  {
   "cell_type": "markdown",
   "metadata": {
    "id": "xYKyNrO7ciEU"
   },
   "source": [
    "# Q3 Optimal Illumination {-}"
   ]
  },
  {
   "cell_type": "markdown",
   "metadata": {},
   "source": [
    "We consider an illumination system of m lamps, at positions $l_1, . . . , l_m \\in {\\mathbf{R}}^2$\n",
    ", illuminating n flat patches."
   ]
  },
  {
   "cell_type": "markdown",
   "metadata": {
    "id": "7h_1VfrydS86"
   },
   "source": [
    "![HW4Q3.PNG](data:image/png;base64,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)\n",
    "\n",
    "\n"
   ]
  },
  {
   "cell_type": "markdown",
   "metadata": {},
   "source": [
    "The patches are line segments; the ith patch is given by $[v_i\n",
    ", v_{i+1}]$ where $v_1, \\dots , v_{n+1} \\in \\mathbf{R}^2$. The variables in the problem are the lamp powers $p_1, \\dots , p_m$, which can vary between 0 and 1. The illumination at (the midpoint of) patch $i$ is denoted $I_i$. We will use a simple model for the illumination:\n",
    "\n",
    "$$ I_i = \\sum_{j=1}^m a_{ij} p_j, \\qquad a_{ij} = r_{ij}^{-2} \\max\\{\\cos \\theta_{ij},0 \\},$$\n",
    "\n",
    "where $r_{ij}$ denotes the distance between lamp $j$ and the midpoint of patch $i$, and $θ_{ij}$ denotes the angle between the upward normal of patch $i$ and the vector from the midpoint of patch $i$ to lamp $j$, as shown in the figure. This model takes into account “self-shading” (*i.e.*, the fact that a patch is illuminated only by lamps in the halfspace it faces) but not shading of\n",
    "one patch caused by another. Of course we could use a more complex illumination model, including shading and even reflections. This just changes the matrix relating the lamp powers to the patch illumination levels.\n",
    "\n",
    "The problem is to determine lamp powers that make the illumination levels close to a given desired illumination level $I_{\\rm des}$, subject to the power limits $0 \\le p_i \\le 1$."
   ]
  },
  {
   "cell_type": "markdown",
   "metadata": {
    "id": "hB3NuFZmf7sX"
   },
   "source": [
    "(a) Suppose we use the maximum deviation $$\\phi(p) = \\max_{k=1,\\dots,n} \\lvert I_k - I_{\\rm des}\\rvert$$ as a measure for the deviation from the desired illumination level. Formulate the illumination problem using this criterion as a linear optimization problem."
   ]
  },
  {
   "cell_type": "markdown",
   "metadata": {},
   "source": [
    "(b) There are several suboptimal approaches based on weighted least-squares. You are given $A$ (where the entries of $A$ are $a_{ij}$ in the model for illumination) and $I_{\\rm des}$. Import the file `HW4Q3.csv` using the following lines of code, you might have to change `HW4Q3.csv` to the corresponding filepath on your machine/Google Drive"
   ]
  },
  {
   "cell_type": "code",
   "execution_count": 3,
   "metadata": {},
   "outputs": [],
   "source": [
    "# A_pd = pd.read_csv('/content/drive/MyDrive/HW4Q3.csv', header=None)\n",
    "A_pd = pd.read_csv('HW4Q3.csv', header=None)\n",
    "A = A_pd.to_numpy()\n",
    "I_des = 2"
   ]
  },
  {
   "cell_type": "markdown",
   "metadata": {},
   "source": [
    "We consider two examples.\n",
    "\n",
    "1. *Saturated least-squares.* We can solve the least-squares problem\n",
    "$$ \\mbox{minimize}\\quad \\sum_{k=1}^n (I_k − I_{\\rm des})^2$$ \n",
    "\n",
    "ignoring the constraints. If the solution is not feasible, we saturate it, *i.e.*, set $p_j = 0$ if $p_j \\le 0$ and $p_j = 1$ if $p_j \\ge 1$. Compute a feasible $p$ using this first method, and calculate $\\phi(p)$.\n",
    "\n",
    "2. *Weighted least-squares.* We consider another least-squares problem:\n",
    "$$ \\mbox{minimize}\\quad  \\sum_{k=1}^n (I_k − I_{\\rm des})^2 + \\mu \\sum_{i=1}^m (p_i - 0.5)^2,$$ \n",
    "\n",
    "where $\\mu \\ge 0$ is used to attach a cost to a deviation of the powers from the value 0.5, which lies in the middle of the power limits. For large enough $\\mu$, the solution of this problem will satisfy $0 \\le \\pi \\le 1$, *i.e.*, be feasible for the original problem. Again, using the same $A$ and $I_{\\rm des}$, find the smallest $\\mu$ such that $p$ becomes feasible, and evaluate $\\phi(p)$."
   ]
  },
  {
   "cell_type": "markdown",
   "metadata": {
    "id": "P1nYreE0Xz6D"
   },
   "source": [
    "(c) Using the same data as in part (b), solve the LP you derived in part (a). Compare the solution with the solutions you obtained using the (weighted) least-squares methods of part (b).\n"
   ]
  }
 ],
 "metadata": {
  "colab": {
   "collapsed_sections": [],
   "name": "ORF307HW4.ipynb",
   "provenance": [],
   "toc_visible": true
  },
  "kernelspec": {
   "display_name": "Python 3 (ipykernel)",
   "language": "python",
   "name": "python3"
  },
  "language_info": {
   "codemirror_mode": {
    "name": "ipython",
    "version": 3
   },
   "file_extension": ".py",
   "mimetype": "text/x-python",
   "name": "python",
   "nbconvert_exporter": "python",
   "pygments_lexer": "ipython3",
   "version": "3.7.6"
  }
 },
 "nbformat": 4,
 "nbformat_minor": 4
}
