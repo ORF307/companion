{
 "cells": [
  {
   "cell_type": "markdown",
   "metadata": {
    "id": "o0R7G_oI8dcx"
   },
   "source": [
    "\n",
    "# ORF307 Homework 6 {-}\n",
    "\n",
    "\n",
    "Due: Friday, April 1, 2022 9:00 pm ET\n",
    "\n",
    "- Please export your code with output as pdf.\n",
    "- If there is any additional answers, please combine them as **ONE** pdf file before submitting to the Gradescope."
   ]
  },
  {
   "cell_type": "markdown",
   "metadata": {
    "id": "dvm91Fgo8_oa"
   },
   "source": [
    "# Question 1 {-}"
   ]
  },
  {
   "cell_type": "markdown",
   "metadata": {
    "id": "FtYlxu6p8_ve"
   },
   "source": [
    "Let $A$ be a given matrix. Show that exactly one of the following alternatives must hold.\n",
    "\n",
    "(a) There exists some $x \\neq 0$ such that $Ax=0, x\\ge0$.\n",
    "\n",
    "(b) There exists some $y$ such that $A^T y > 0$.\n"
   ]
  },
  {
   "cell_type": "markdown",
   "metadata": {
    "id": "px-aWpDP89eU"
   },
   "source": [
    "# Question 2 {-}\n",
    "\n",
    "\n"
   ]
  },
  {
   "cell_type": "markdown",
   "metadata": {
    "id": "yBG5r-cE8_c3"
   },
   "source": [
    "An alternative to the phase-I/phase-II method for solving the LP\n",
    "$$\n",
    "\\label{eq:LP}\\tag{1}\n",
    "\\begin{array}{ll}\n",
    "\\mbox{minimize} &c^Tx\\\\\n",
    "\\text{subject to} &Ax = b,\\\\\n",
    "& x \\ge 0\n",
    "\\end{array}\n",
    "$$\n",
    "\n",
    "is the \"big-M\"-method, in which we solve the auxiliary problem\n",
    "\n",
    "$$\n",
    "\\label{eq:aux}\\tag{2}\n",
    "\\begin{array}{ll}\n",
    "\\mbox{minimize} &c^Tx + M\\mathbf{1}^Tz\\\\\n",
    "\\text{subject to} &Ax + z = b\\\\\n",
    "&x \\ge 0, z \\ge 0,\n",
    "\\end{array}\n",
    "$$\n",
    "\n",
    "where $M > 0$ is a parameter and $z \\in \\mathbf{R}^m$ is an auxiliary variable. Here, $A \\in \\mathbf{R}^{m \\times n}, c \\in \\mathbf{R}^{n}$, and $b \\in \\mathbf{R}^{m}$. Note that this auxiliary problem has an initial basic feasible solution $(x, z) = (0, b) \\ge 0$.\n",
    "\n",
    "(a) Derive the dual LP of \\eqref{eq:aux}.\n",
    "\n",
    "(b) Prove the following property:\n",
    "\n",
    "If $M > -y_i^\\star$ for $i=1,\\dots,m$, where $y^\\star$ is an optimal solution of the dual of \\eqref{eq:LP}, then the optimal $z$ in \\eqref{eq:aux} is zero, and therefore the optimal $x$ in \\eqref{eq:aux} is also an optimal solution of \\eqref{eq:LP}.\n",
    "\n",
    "**Hint:** Use complementary slackness."
   ]
  },
  {
   "cell_type": "markdown",
   "metadata": {
    "id": "_e9uuUyx8_-i"
   },
   "source": [
    "# Question 3 {-}"
   ]
  },
  {
   "cell_type": "markdown",
   "metadata": {
    "id": "A7feKCN79ADz"
   },
   "source": [
    "Consider the following LP:\n",
    "$$\n",
    "\\begin{array}{ll}\\label{eq:q4}\\tag{3}\n",
    "\\mbox{minimize} &13x_1 + 10x_2 + 6x_3\\\\\n",
    "\\text{subject to} &5x_1 + x_2 + 3x_3 = 8\\\\\n",
    "& 3x_1 + x_2 = 3\\\\\n",
    "& x_1, x_2, x_3 \\ge 0.\n",
    "\\end{array}\n",
    "$$\n",
    "\n",
    "(a) Solve it using the big-M formulation as in Q3 obtaining optimal primal and dual variables (use the provided function).\n",
    "\n",
    "(b) Derive the dual LP for \\eqref{eq:q4}\n",
    "\n",
    "(c) Solve the dual using CVXPY and compare the optimal primal-dual variables with the ones from (a)."
   ]
  },
  {
   "cell_type": "code",
   "execution_count": 2,
   "metadata": {
    "scrolled": true
   },
   "outputs": [],
   "source": [
    "'''\n",
    "This code is provided to help with question 4.\n",
    "This code returns optimal primal variables x \n",
    "and dual variables y.\n",
    "'''\n",
    "import cvxpy as cp\n",
    "import numpy as np\n",
    "import numpy.linalg as la\n",
    "\n",
    "def simplex_iteration(x, B, problem):\n",
    "    \"\"\"Perform one simplex iteration given \n",
    "    - basic feasible solution x\n",
    "    - basis B\n",
    "    \n",
    "    It returns new x, new basis, new dual variable,\n",
    "    and termination flag (true/false)\n",
    "    \"\"\"\n",
    "    A, b, c = problem['A'], problem['b'], problem['c']\n",
    "    m, n = A.shape\n",
    "    A_B = A[:, B]\n",
    "    \n",
    "    # Compute reduced cost vector\n",
    "    p = la.solve(A_B.T, c[B])\n",
    "    c_bar = c - A.T @ p\n",
    "    \n",
    "    # Check optimality\n",
    "    if np.all(c_bar >= 0):\n",
    "        print(\"Optimal solution found!\")\n",
    "        return x, B, -p, True\n",
    "\n",
    "    # Choose j such that c_bar < 0 (first one)\n",
    "    j = np.where(c_bar < 0)[0][0]\n",
    "    \n",
    "    # Compute search direction d\n",
    "    d = np.zeros(n)\n",
    "    d[j] = 1\n",
    "    d[B] = la.solve(A_B, -A[:, j])\n",
    "    \n",
    "    # Check for unboundedness\n",
    "    if np.all(d >= 0):\n",
    "        print(\"Unbounded problem!\")\n",
    "        return None, None, True\n",
    "        \n",
    "    # Compute step length theta\n",
    "    d_i = np.where(d[B] < 0)[0]\n",
    "    theta = np.min(- x[B[d_i]] / d[B[d_i]])\n",
    "    i = B[d_i[np.argmin(- x[B[d_i]] / d[B[d_i]])]]\n",
    "    \n",
    "    # Compute next point\n",
    "    x_next = x + theta * d\n",
    "    \n",
    "    # Compute next basis\n",
    "    B_next = B\n",
    "    B_next[np.where(B == i)[0]] = j\n",
    "  \n",
    "    return x_next, B_next, -p, False\n",
    "\n",
    "def simplex_algorithm(x, B, problem, max_iter=1000):\n",
    "    \"\"\"Run simplex algorithm\"\"\"\n",
    "\n",
    "    for k in range(max_iter):\n",
    "            \n",
    "        x, B, y, end = simplex_iteration(x, B, problem)\n",
    "        \n",
    "        if end:\n",
    "            break\n",
    "    return x, B, y"
   ]
  }
 ],
 "metadata": {
  "colab": {
   "collapsed_sections": [],
   "name": "ORF307HW6.ipynb",
   "provenance": []
  },
  "kernelspec": {
   "display_name": "Python 3 (ipykernel)",
   "language": "python",
   "name": "python3"
  },
  "language_info": {
   "codemirror_mode": {
    "name": "ipython",
    "version": 3
   },
   "file_extension": ".py",
   "mimetype": "text/x-python",
   "name": "python",
   "nbconvert_exporter": "python",
   "pygments_lexer": "ipython3",
   "version": "3.9.9"
  }
 },
 "nbformat": 4,
 "nbformat_minor": 4
}
