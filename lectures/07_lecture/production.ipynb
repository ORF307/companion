{
 "cells": [
  {
   "cell_type": "markdown",
   "metadata": {},
   "source": [
    "# Beer production problem"
   ]
  },
  {
   "cell_type": "markdown",
   "metadata": {},
   "source": [
    "A small brewery produces *ale* and *lager* beers based on three resources: corn, hops and malt.\n",
    "Recipes for ale and lager require different proportions of resources\n",
    "\n",
    "| Beverage      | Corn (pounds) | Hops (pounds)  | Malt (pounds) | Profit (USD) |\n",
    "| ------------- | ------------- | -------------- | ------------- | ------------ |\n",
    "| Ale           | 5             | 4              | 35            | 13           |\n",
    "| Lager         | 15            | 4              | 20            | 23           |\n",
    "| *Quantity*      | 480           | 160            | 1190          |              |\n",
    "\n",
    "\n"
   ]
  },
  {
   "cell_type": "code",
   "execution_count": 2,
   "metadata": {},
   "outputs": [
    {
     "name": "stdout",
     "output_type": "stream",
     "text": [
      "The optimal profit is 799.9999993996207\n",
      "A solution is\n",
      "  ale   =  11.999999983185091\n",
      "  lager =  27.99999998340063\n"
     ]
    }
   ],
   "source": [
    "import cvxpy as cp\n",
    "import numpy as np\n",
    "\n",
    "ale = cp.Variable()\n",
    "lager = cp.Variable()\n",
    "\n",
    "objective = 13 * ale + 23 * lager\n",
    "\n",
    "constraints = [5 * ale + 15 * lager <= 480,\n",
    "               4 * ale + 4 * lager  <= 160,\n",
    "               35 * ale + 20 * lager <= 1190,\n",
    "               ale >= 0, lager >= 0]\n",
    "\n",
    "problem = cp.Problem(cp.Maximize(objective), constraints)\n",
    "problem.solve()\n",
    "\n",
    "print(\"The optimal profit is\", problem.value)\n",
    "print(\"A solution is\")\n",
    "print(\"  ale   = \", ale.value)\n",
    "print(\"  lager = \", lager.value)"
   ]
  }
 ],
 "metadata": {
  "kernelspec": {
   "display_name": "Python 3 (ipykernel)",
   "language": "python",
   "name": "python3"
  },
  "language_info": {
   "codemirror_mode": {
    "name": "ipython",
    "version": 3
   },
   "file_extension": ".py",
   "mimetype": "text/x-python",
   "name": "python",
   "nbconvert_exporter": "python",
   "pygments_lexer": "ipython3",
   "version": "3.11.7"
  }
 },
 "nbformat": 4,
 "nbformat_minor": 4
}
