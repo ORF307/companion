{
 "cells": [
  {
   "cell_type": "code",
   "execution_count": 1,
   "metadata": {},
   "outputs": [],
   "source": [
    "import numpy as np\n",
    "import cvxpy as cp\n",
    "import matplotlib.pyplot as plt\n",
    "\n",
    "# Set up plot style\n",
    "plt.rcParams.update({\n",
    "    \"text.usetex\": True,\n",
    "    \"font.family\": \"sans-serif\",\n",
    "    \"font.sans-serif\": [\"Helvetica Neue\"],\n",
    "    \"font.size\": 20,\n",
    "    \"figure.figsize\": (9, 6)})"
   ]
  },
  {
   "cell_type": "code",
   "execution_count": 2,
   "metadata": {},
   "outputs": [],
   "source": [
    "np.random.seed(1)  # Reset seed\n",
    "\n",
    "N = 20  # Number of points\n",
    "\n",
    "# Generate points\n",
    "c = np.array([1, 1])  # True parameters\n",
    "z = (np.random.rand(N) - 1 / 2) * 20\n",
    "f = c[0] + c[1]*z + np.random.randn(N)*1.5\n",
    "\n",
    "# some outliers\n",
    "z[N-1]  = 10 \n",
    "z[0]   = -10 \n",
    "f[N-1]  = c[0] + c[1] * z[N-1] - 30\n",
    "f[0]    = c[0] + c[1] * z[0]  + 30"
   ]
  },
  {
   "cell_type": "code",
   "execution_count": 3,
   "metadata": {},
   "outputs": [],
   "source": [
    "# Stack A for least quares\n",
    "A = np.column_stack([np.ones(N), z])\n",
    "b = f\n",
    "\n",
    "# Define variable\n",
    "x = cp.Variable(2)\n",
    "\n",
    "# Solve least squares problem\n",
    "prob_L2 = cp.Problem(cp.Minimize(cp.sum_squares(A @ x - b)))\n",
    "prob_L2.solve()\n",
    "x_L2 = x.value\n",
    "r_L2 = A @ x_L2 - b\n",
    "\n",
    "# Solve l-1 problem\n",
    "prob_L1 = cp.Problem(cp.Minimize(cp.norm(A @ x - b, 1)))\n",
    "prob_L1.solve()\n",
    "x_L1 = x.value\n",
    "r_L1 = A @ x_L1 - b"
   ]
  },
  {
   "cell_type": "code",
   "execution_count": 4,
   "metadata": {},
   "outputs": [
    {
     "data": {
      "image/png": "[encoded data removed]",
      "text/plain": [
       "<Figure size 648x432 with 1 Axes>"
      ]
     },
     "metadata": {
      "needs_background": "light"
     },
     "output_type": "display_data"
    }
   ],
   "source": [
    "# Plot\n",
    "fig, ax = plt.subplots(1,1)\n",
    "ax.scatter(z, f, marker='o', facecolors='black', edgecolors='black')\n",
    "ax.set_xlabel('$z$')\n",
    "ax.set_ylabel('$f(z)$')\n",
    "ax.set_yticks(np.arange(-20, 20.1, step=5))  \n",
    "ax.set_xticks(np.arange(-10, 10.1, step=5))  \n",
    "ax.set_aspect(1/3)\n",
    "ax.grid('on')\n",
    "plt.savefig('l1_fit_data_only.pdf')\n",
    "\n",
    "z_fit = np.array([-10, 10])\n",
    "\n",
    "# l2 fit (plot line passing by two points)\n",
    "f_fit = x_L2[0] + z_fit * x_L2[1]\n",
    "ax.plot(z_fit, f_fit, linestyle=\"dashed\", color=\"firebrick\", \n",
    "        linewidth=2)\n",
    "plt.savefig('l1_fit_l2_only.pdf')\n",
    "\n",
    "# l1 fit (plot line passing by two points)\n",
    "f_fit = x_L1[0] + z_fit * x_L1[1]\n",
    "ax.plot(z_fit, f_fit, color=\"navy\", \n",
    "        linewidth=2)\n",
    "plt.savefig('l1_fit_l1_and_l2.pdf')"
   ]
  },
  {
   "cell_type": "code",
   "execution_count": null,
   "metadata": {},
   "outputs": [],
   "source": []
  }
 ],
 "metadata": {
  "kernelspec": {
   "display_name": "Python 3 (ipykernel)",
   "language": "python",
   "name": "python3"
  },
  "language_info": {
   "codemirror_mode": {
    "name": "ipython",
    "version": 3
   },
   "file_extension": ".py",
   "mimetype": "text/x-python",
   "name": "python",
   "nbconvert_exporter": "python",
   "pygments_lexer": "ipython3",
   "version": "3.9.1"
  }
 },
 "nbformat": 4,
 "nbformat_minor": 4
}
