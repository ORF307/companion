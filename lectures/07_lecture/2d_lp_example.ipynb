{
 "cells": [
  {
   "cell_type": "code",
   "execution_count": 4,
   "metadata": {},
   "outputs": [
    {
     "data": {
      "text/plain": [
       "-0.9999999999536023"
      ]
     },
     "execution_count": 4,
     "metadata": {},
     "output_type": "execute_result"
    }
   ],
   "source": [
    "import cvxpy as cp\n",
    "\n",
    "#make decision variable\n",
    "x = cp.Variable(2)\n",
    "\n",
    "#define objective\n",
    "objective   = x[0]\n",
    "\n",
    "#define constraints\n",
    "constraints = [ -1 <= x[0], x[0] <= 1, #inequalities\n",
    "                -1 <= x[1], x[1] <= 1, #inequalities\n",
    "                x[0] + x[1] == -1]     #equalities\n",
    "\n",
    "#make problem and solve\n",
    "prob = cp.Problem(cp.Minimize(objective),constraints)\n",
    "prob.solve()"
   ]
  },
  {
   "cell_type": "code",
   "execution_count": 5,
   "metadata": {},
   "outputs": [
    {
     "data": {
      "text/plain": [
       "-1.0000000000072828"
      ]
     },
     "execution_count": 5,
     "metadata": {},
     "output_type": "execute_result"
    }
   ],
   "source": [
    "#define objective\n",
    "objective   = x[0]\n",
    "\n",
    "#define constraints\n",
    "constraints = [ cp.abs(x[0]) <= 1, #inequalities\n",
    "                cp.abs(x[1]) <= 1, #inequalities\n",
    "                x[0] + x[1] == -1] #equalities\n",
    "\n",
    "#make problem and solve\n",
    "prob = cp.Problem(cp.Minimize(objective),constraints)\n",
    "prob.solve()"
   ]
  },
  {
   "cell_type": "code",
   "execution_count": 6,
   "metadata": {},
   "outputs": [
    {
     "name": "stdout",
     "output_type": "stream",
     "text": [
      "===============================================================================\n",
      "                                     CVXPY                                     \n",
      "                                     v1.4.2                                    \n",
      "===============================================================================\n",
      "(CVXPY) Jan 21 05:55:33 PM: Your problem has 2 variables, 2 constraints, and 0 parameters.\n",
      "(CVXPY) Jan 21 05:55:33 PM: It is compliant with the following grammars: DCP, DQCP\n",
      "(CVXPY) Jan 21 05:55:33 PM: (If you need to solve this problem multiple times, but with different data, consider using parameters.)\n",
      "(CVXPY) Jan 21 05:55:33 PM: CVXPY will first compile your problem; then, it will invoke a numerical solver to obtain a solution.\n",
      "(CVXPY) Jan 21 05:55:33 PM: Your problem is compiled with the CPP canonicalization backend.\n",
      "-------------------------------------------------------------------------------\n",
      "                                  Compilation                                  \n",
      "-------------------------------------------------------------------------------\n",
      "(CVXPY) Jan 21 05:55:33 PM: Compiling problem (target solver=CLARABEL).\n",
      "(CVXPY) Jan 21 05:55:33 PM: Reduction chain: Dcp2Cone -> CvxAttr2Constr -> ConeMatrixStuffing -> CLARABEL\n",
      "(CVXPY) Jan 21 05:55:33 PM: Applying reduction Dcp2Cone\n",
      "(CVXPY) Jan 21 05:55:33 PM: Applying reduction CvxAttr2Constr\n",
      "(CVXPY) Jan 21 05:55:33 PM: Applying reduction ConeMatrixStuffing\n",
      "(CVXPY) Jan 21 05:55:33 PM: Applying reduction CLARABEL\n",
      "(CVXPY) Jan 21 05:55:33 PM: Finished problem compilation (took 1.263e-02 seconds).\n",
      "-------------------------------------------------------------------------------\n",
      "                                Numerical solver                               \n",
      "-------------------------------------------------------------------------------\n",
      "(CVXPY) Jan 21 05:55:33 PM: Invoking solver CLARABEL  to obtain a solution.\n",
      "-------------------------------------------------------------------------------\n",
      "                                    Summary                                    \n",
      "-------------------------------------------------------------------------------\n",
      "(CVXPY) Jan 21 05:55:33 PM: Problem status: optimal\n",
      "-------------------------------------------------------------\n",
      "           Clarabel.rs v0.6.0  -  Clever Acronym              \n",
      "\n",
      "                   (c) Paul Goulart                          \n",
      "                University of Oxford, 2022                   \n",
      "-------------------------------------------------------------\n",
      "\n",
      "problem:\n",
      "  variables     = 3\n",
      "  constraints   = 6\n",
      "  nnz(P)        = 0\n",
      "  nnz(A)        = 11\n",
      "  cones (total) = 2\n",
      "    :        Zero = 1,  numel = 1\n",
      "    : Nonnegative = 1,  numel = 5\n",
      "\n",
      "settings:\n",
      "  linear algebra: direct / qdldl, precision: 64 bit\n",
      "  max iter = 200, time limit = Inf,  max step = 0.990\n",
      "  tol_feas = 1.0e-8, tol_gap_abs = 1.0e-8, tol_gap_rel = 1.0e-8,\n",
      "  static reg : on, ϵ1 = 1.0e-8, ϵ2 = 4.9e-32\n",
      "  dynamic reg: on, ϵ = 1.0e-13, δ = 2.0e-7\n",
      "  iter refine: on, reltol = 1.0e-13, abstol = 1.0e-12,\n",
      "               max iter = 10, stop ratio = 5.0\n",
      "  equilibrate: on, min_scale = 1.0e-4, max_scale = 1.0e4\n",
      "               max iter = 10\n",
      "\n",
      "iter    pcost        dcost       gap       pre(CVXPY) Jan 21 05:55:33 PM: Optimal value: -1.000e+00\n",
      "(CVXPY) Jan 21 05:55:33 PM: Compilation took 1.263e-02 seconds\n",
      "s      dres      k/t        μ       step      \n",
      "---------------------------------------------------------------------------------------------\n",
      "  0  -5.0000e-01  -1.7500e+00  1.25e+00  5.26e-01  8.12e-01  1.00e+00  1.85e+00   ------   \n",
      "  1  -7.8892e-01  -9.5670e-01  1.68e-01  5.92e-02  1.00e-01  3.22e-02  2.36e-01  8.91e-01  \n",
      "  2  -1.0104e+00  -1.0217e+00  1.11e-02  4.19e-03  6.92e-03  4.67e-03  1.68e-02  9.44e-01  \n",
      "  3  -1.0001e+00  -1.0002e+00  1.14e-04  4.26e-05  6.98e-05  4.66e-05  1.71e-04  9.90e-01  \n",
      "  4  -1.0000e+00  -1.0000e+00  1.14e-06  4.26e-07  6.98e-07  4.66e-07  1.71e-06  9.90e-01  \n",
      "  5  -1.0000e+00  -1.0000e+00  1.14e-08  4.26e-09  6.98e-09  4.66e-09  1.71e-08  9.90e-01  \n",
      "  6  -1.0000e+00  -1.0000e+00  1.14e-10  4.26e-11  6.98e-11  4.66e-11  1.71e-10  9.90e-01  \n",
      "---------------------------------------------------------------------------------------------\n",
      "Terminated with status = Solved\n",
      "solve time = 67.774µs\n",
      "(CVXPY) Jan 21 05:55:33 PM: Solver (including time spent in interface) took 3.500e-04 seconds\n"
     ]
    },
    {
     "data": {
      "text/plain": [
       "-1.0000000001017457"
      ]
     },
     "execution_count": 6,
     "metadata": {},
     "output_type": "execute_result"
    }
   ],
   "source": [
    "#define objective\n",
    "objective   = x[0]\n",
    "\n",
    "#define constraints\n",
    "constraints = [ cp.norm(x, 'inf') <= 1, #inequalities\n",
    "                cp.sum(x) == -1]   #equalities\n",
    "\n",
    "#make problem and solve\n",
    "prob = cp.Problem(cp.Minimize(objective),constraints)\n",
    "prob.solve()\n",
    "prob.solve(solver='CLARABEL', verbose=True) "
   ]
  },
  {
   "cell_type": "code",
   "execution_count": 7,
   "metadata": {},
   "outputs": [
    {
     "name": "stdout",
     "output_type": "stream",
     "text": [
      "x =  [-1.0000000e+00  1.0174598e-10]\n"
     ]
    }
   ],
   "source": [
    "print(\"x = \", x.value)"
   ]
  }
 ],
 "metadata": {
  "kernelspec": {
   "display_name": "Python 3 (ipykernel)",
   "language": "python",
   "name": "python3"
  },
  "language_info": {
   "codemirror_mode": {
    "name": "ipython",
    "version": 3
   },
   "file_extension": ".py",
   "mimetype": "text/x-python",
   "name": "python",
   "nbconvert_exporter": "python",
   "pygments_lexer": "ipython3",
   "version": "3.11.7"
  }
 },
 "nbformat": 4,
 "nbformat_minor": 4
}
