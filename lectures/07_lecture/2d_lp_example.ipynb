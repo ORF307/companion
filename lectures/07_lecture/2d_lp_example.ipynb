{
 "cells": [
  {
   "cell_type": "code",
   "execution_count": 1,
   "metadata": {},
   "outputs": [
    {
     "data": {
      "text/plain": [
       "-0.9999999999536023"
      ]
     },
     "execution_count": 1,
     "metadata": {},
     "output_type": "execute_result"
    }
   ],
   "source": [
    "import cvxpy as cp\n",
    "\n",
    "#make decision variable\n",
    "x = cp.Variable(2)\n",
    "\n",
    "#define objective\n",
    "objective   = x[0]\n",
    "\n",
    "#define constraints\n",
    "constraints = [ -1 <= x[0], x[0] <= 1, #inequalities\n",
    "                -1 <= x[1], x[1] <= 1, #inequalities\n",
    "                x[0] + x[1] == -1]     #equalities\n",
    "\n",
    "#make problem and solve\n",
    "prob = cp.Problem(cp.Minimize(objective),constraints)\n",
    "prob.solve()"
   ]
  },
  {
   "cell_type": "code",
   "execution_count": 2,
   "metadata": {},
   "outputs": [
    {
     "data": {
      "text/plain": [
       "-1.0000000000072828"
      ]
     },
     "execution_count": 2,
     "metadata": {},
     "output_type": "execute_result"
    }
   ],
   "source": [
    "#define objective\n",
    "objective   = x[0]\n",
    "\n",
    "#define constraints\n",
    "constraints = [ cp.abs(x[0]) <= 1, #inequalities\n",
    "                cp.abs(x[1]) <= 1, #inequalities\n",
    "                x[0] + x[1] == -1] #equalities\n",
    "\n",
    "#make problem and solve\n",
    "prob = cp.Problem(cp.Minimize(objective),constraints)\n",
    "prob.solve()"
   ]
  },
  {
   "cell_type": "code",
   "execution_count": 11,
   "metadata": {},
   "outputs": [
    {
     "name": "stdout",
     "output_type": "stream",
     "text": [
      "===============================================================================\n",
      "                                     CVXPY                                     \n",
      "                                    v1.1.18                                    \n",
      "===============================================================================\n",
      "(CVXPY) Feb 13 05:00:50 PM: Your problem has 2 variables, 2 constraints, and 0 parameters.\n",
      "(CVXPY) Feb 13 05:00:50 PM: It is compliant with the following grammars: DCP, DQCP\n",
      "(CVXPY) Feb 13 05:00:50 PM: (If you need to solve this problem multiple times, but with different data, consider using parameters.)\n",
      "(CVXPY) Feb 13 05:00:50 PM: CVXPY will first compile your problem; then, it will invoke a numerical solver to obtain a solution.\n",
      "-------------------------------------------------------------------------------\n",
      "                                  Compilation                                  \n",
      "-------------------------------------------------------------------------------\n",
      "(CVXPY) Feb 13 05:00:50 PM: Compiling problem (target solver=ECOS).\n",
      "(CVXPY) Feb 13 05:00:50 PM: Reduction chain: Dcp2Cone -> CvxAttr2Constr -> ConeMatrixStuffing -> ECOS\n",
      "(CVXPY) Feb 13 05:00:50 PM: Applying reduction Dcp2Cone\n",
      "(CVXPY) Feb 13 05:00:50 PM: Applying reduction CvxAttr2Constr\n",
      "(CVXPY) Feb 13 05:00:50 PM: Applying reduction ConeMatrixStuffing\n",
      "(CVXPY) Feb 13 05:00:50 PM: Applying reduction ECOS\n",
      "(CVXPY) Feb 13 05:00:50 PM: Finished problem compilation (took 1.140e-02 seconds).\n",
      "-------------------------------------------------------------------------------\n",
      "                                Numerical solver                               \n",
      "-------------------------------------------------------------------------------\n",
      "(CVXPY) Feb 13 05:00:50 PM: Invoking solver ECOS  to obtain a solution.\n",
      "-------------------------------------------------------------------------------\n",
      "                                    Summary                                    \n",
      "-------------------------------------------------------------------------------\n",
      "(CVXPY) Feb 13 05:00:50 PM: Problem status: optimal\n",
      "(CVXPY) Feb 13 05:00:50 PM: Optimal value: -1.000e+00\n",
      "(CVXPY) Feb 13 05:00:50 PM: Compilation took 1.140e-02 seconds\n",
      "(CVXPY) Feb 13 05:00:50 PM: Solver (including time spent in interface) took 3.099e-04 seconds\n"
     ]
    },
    {
     "data": {
      "text/plain": [
       "-0.9999999999917528"
      ]
     },
     "execution_count": 11,
     "metadata": {},
     "output_type": "execute_result"
    }
   ],
   "source": [
    "#define objective\n",
    "objective   = x[0]\n",
    "\n",
    "#define constraints\n",
    "constraints = [ cp.norm(x, 'inf') <= 1, #inequalities\n",
    "                cp.sum(x) == -1]   #equalities\n",
    "\n",
    "#make problem and solve\n",
    "prob = cp.Problem(cp.Minimize(objective),constraints)\n",
    "prob.solve()\n",
    "prob.solve(solver='ECOS', verbose=True) "
   ]
  },
  {
   "cell_type": "code",
   "execution_count": 12,
   "metadata": {},
   "outputs": [
    {
     "name": "stdout",
     "output_type": "stream",
     "text": [
      "x =  [-1.00000000e+00 -8.24139516e-12]\n"
     ]
    }
   ],
   "source": [
    "print(\"x = \", x.value)"
   ]
  },
  {
   "cell_type": "code",
   "execution_count": null,
   "metadata": {},
   "outputs": [],
   "source": []
  }
 ],
 "metadata": {
  "kernelspec": {
   "display_name": "Python 3 (ipykernel)",
   "language": "python",
   "name": "python3"
  },
  "language_info": {
   "codemirror_mode": {
    "name": "ipython",
    "version": 3
   },
   "file_extension": ".py",
   "mimetype": "text/x-python",
   "name": "python",
   "nbconvert_exporter": "python",
   "pygments_lexer": "ipython3",
   "version": "3.9.1"
  }
 },
 "nbformat": 4,
 "nbformat_minor": 4
}
