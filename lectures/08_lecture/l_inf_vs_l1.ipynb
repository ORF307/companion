{
 "cells": [
  {
   "cell_type": "code",
   "execution_count": 1,
   "id": "22be3c9f",
   "metadata": {},
   "outputs": [
    {
     "data": {
      "text/plain": [
       "1.3802661847669333"
      ]
     },
     "execution_count": 1,
     "metadata": {},
     "output_type": "execute_result"
    }
   ],
   "source": [
    "import numpy as np\n",
    "import cvxpy as cp\n",
    "\n",
    "m = 200; n = 80\n",
    "\n",
    "A = np.random.randn(200, 80)\n",
    "b = np.random.randn(200)\n",
    "x = cp.Variable(80)\n",
    "\n",
    "objective = cp.norm(A @ x - b, np.inf)\n",
    "problem = cp.Problem(cp.Minimize(objective))\n",
    "problem.solve()"
   ]
  },
  {
   "cell_type": "code",
   "execution_count": 2,
   "id": "d3d56877",
   "metadata": {},
   "outputs": [
    {
     "data": {
      "text/plain": [
       "102.35325702755432"
      ]
     },
     "execution_count": 2,
     "metadata": {},
     "output_type": "execute_result"
    }
   ],
   "source": [
    "import numpy as np\n",
    "import cvxpy as cp\n",
    "\n",
    "m = 200; n = 80\n",
    "\n",
    "A = np.random.randn(200, 80)\n",
    "b = np.random.randn(200)\n",
    "x = cp.Variable(80)\n",
    "\n",
    "objective = cp.norm(A @ x - b, 1)\n",
    "problem = cp.Problem(cp.Minimize(objective))\n",
    "problem.solve()"
   ]
  },
  {
   "cell_type": "code",
   "execution_count": null,
   "id": "49a63083",
   "metadata": {},
   "outputs": [],
   "source": []
  }
 ],
 "metadata": {
  "kernelspec": {
   "display_name": "Python 3 (ipykernel)",
   "language": "python",
   "name": "python3"
  },
  "language_info": {
   "codemirror_mode": {
    "name": "ipython",
    "version": 3
   },
   "file_extension": ".py",
   "mimetype": "text/x-python",
   "name": "python",
   "nbconvert_exporter": "python",
   "pygments_lexer": "ipython3",
   "version": "3.9.1"
  }
 },
 "nbformat": 4,
 "nbformat_minor": 5
}
