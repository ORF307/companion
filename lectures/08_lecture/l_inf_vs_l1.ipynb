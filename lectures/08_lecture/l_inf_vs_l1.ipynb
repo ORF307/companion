{
 "cells": [
  {
   "cell_type": "code",
   "execution_count": 3,
   "id": "22be3c9f",
   "metadata": {},
   "outputs": [
    {
     "data": {
      "text/plain": [
       "1.1777220690122068"
      ]
     },
     "execution_count": 3,
     "metadata": {},
     "output_type": "execute_result"
    }
   ],
   "source": [
    "import numpy as np\n",
    "import cvxpy as cp\n",
    "\n",
    "m = 200; n = 80\n",
    "\n",
    "A = np.random.randn(200, 80)\n",
    "b = np.random.randn(200)\n",
    "x = cp.Variable(80)\n",
    "\n",
    "objective = cp.norm(A @ x - b, np.inf)\n",
    "problem = cp.Problem(cp.Minimize(objective))\n",
    "problem.solve()"
   ]
  },
  {
   "cell_type": "code",
   "execution_count": 4,
   "id": "d3d56877",
   "metadata": {},
   "outputs": [
    {
     "data": {
      "text/plain": [
       "115.87146092717488"
      ]
     },
     "execution_count": 4,
     "metadata": {},
     "output_type": "execute_result"
    }
   ],
   "source": [
    "import numpy as np\n",
    "import cvxpy as cp\n",
    "\n",
    "m = 200; n = 80\n",
    "\n",
    "A = np.random.randn(200, 80)\n",
    "b = np.random.randn(200)\n",
    "x = cp.Variable(80)\n",
    "\n",
    "objective = cp.norm(A @ x - b, 1)\n",
    "problem = cp.Problem(cp.Minimize(objective))\n",
    "problem.solve()"
   ]
  }
 ],
 "metadata": {
  "kernelspec": {
   "display_name": "Python 3 (ipykernel)",
   "language": "python",
   "name": "python3"
  },
  "language_info": {
   "codemirror_mode": {
    "name": "ipython",
    "version": 3
   },
   "file_extension": ".py",
   "mimetype": "text/x-python",
   "name": "python",
   "nbconvert_exporter": "python",
   "pygments_lexer": "ipython3",
   "version": "3.11.7"
  }
 },
 "nbformat": 4,
 "nbformat_minor": 5
}
