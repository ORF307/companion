{
 "cells": [
  {
   "cell_type": "code",
   "execution_count": 1,
   "metadata": {},
   "outputs": [],
   "source": [
    "import numpy as np\n",
    "from numpy.linalg import cholesky as llt\n",
    "import matplotlib.pyplot as plt\n",
    "from time import time"
   ]
  },
  {
   "cell_type": "markdown",
   "metadata": {},
   "source": [
    "## Advertising example\n",
    "Taken from VMLS book, 12.4"
   ]
  },
  {
   "cell_type": "code",
   "execution_count": 2,
   "metadata": {},
   "outputs": [],
   "source": [
    "m, n = 100000, 5000\n",
    "A = 0.5 + np.random.rand(m, n)  # Force all entries to be between 0.5 and 1.5\n",
    "v_des = 1000 * np.ones(m)"
   ]
  },
  {
   "cell_type": "code",
   "execution_count": 3,
   "metadata": {},
   "outputs": [
    {
     "name": "stdout",
     "output_type": "stream",
     "text": [
      "Pseudoinverse elapsed time: 288.04725 sec\n"
     ]
    }
   ],
   "source": [
    "t_start = time()\n",
    "Apinv = np.linalg.pinv(A)\n",
    "x = Apinv.dot(v_des)\n",
    "print(\"Pseudoinverse elapsed time: %.5f sec\" % (time() - t_start))"
   ]
  },
  {
   "cell_type": "code",
   "execution_count": 7,
   "metadata": {},
   "outputs": [],
   "source": [
    "def forward_substitution(L, b):\n",
    "    n = L.shape[0]\n",
    "    x = np.zeros(n)\n",
    "    for i in range(n):\n",
    "        x[i] = (b[i] - L[i,:i] @ x[:i])/L[i, i]\n",
    "    return x\n",
    "\n",
    "def backward_substitution(U, b):\n",
    "    n = U.shape[0]\n",
    "    x = np.zeros(n)\n",
    "    for i in reversed(range(n)):\n",
    "        x[i] = (b[i] - U[i,i+1:] @ x[i+1:])/U[i, i]\n",
    "    return x"
   ]
  },
  {
   "cell_type": "code",
   "execution_count": 8,
   "metadata": {},
   "outputs": [
    {
     "name": "stdout",
     "output_type": "stream",
     "text": [
      "LL' elapsed time: 11.97130 sec\n"
     ]
    }
   ],
   "source": [
    "t_start = time()\n",
    "M = A.T.dot(A)\n",
    "q = A.T.dot(v_des)\n",
    "L = llt(M)\n",
    "x = forward_substitution(L, q)\n",
    "x = backward_substitution(L.T, x)\n",
    "print(\"LL' elapsed time: %.5f sec\" % (time() - t_start))"
   ]
  },
  {
   "cell_type": "code",
   "execution_count": 9,
   "metadata": {},
   "outputs": [
    {
     "name": "stdout",
     "output_type": "stream",
     "text": [
      "LL' elapsed time (without factor): 0.38672 sec\n"
     ]
    }
   ],
   "source": [
    "v_des = 500*np.ones(m)\n",
    "t_start = time(-)\n",
    "q = A.T.dot(v_des)\n",
    "x = forward_substitution(L, q)\n",
    "x = backward_substitution(L.T, x)\n",
    "print(\"LL' elapsed time (without factor): %.5f sec\" % (time() - t_start))"
   ]
  },
  {
   "cell_type": "code",
   "execution_count": null,
   "metadata": {},
   "outputs": [],
   "source": []
  }
 ],
 "metadata": {
  "kernelspec": {
   "display_name": "Python 3 (ipykernel)",
   "language": "python",
   "name": "python3"
  },
  "language_info": {
   "codemirror_mode": {
    "name": "ipython",
    "version": 3
   },
   "file_extension": ".py",
   "mimetype": "text/x-python",
   "name": "python",
   "nbconvert_exporter": "python",
   "pygments_lexer": "ipython3",
   "version": "3.10.7"
  }
 },
 "nbformat": 4,
 "nbformat_minor": 4
}
